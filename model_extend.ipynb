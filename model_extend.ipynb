{
  "cells": [
    {
      "cell_type": "code",
      "execution_count": 47,
      "metadata": {
        "id": "lYrDENqQkctq"
      },
      "outputs": [],
      "source": [
        "import numpy as np  \n",
        "import pandas as pd\n",
        "from numpy import median, percentile\n",
        "from numpy.random import seed, randint\n",
        "from sklearn.model_selection import train_test_split\n",
        "from sklearn import metrics\n",
        "#from scipy.integrate import cumtrapz\n",
        "from sklearn.metrics import (roc_auc_score, cohen_kappa_score,confusion_matrix, precision_score,\n",
        "                             accuracy_score, average_precision_score, f1_score,\n",
        "                             precision_recall_curve, roc_curve) #, auc, recall_score)\n",
        "import matplotlib.pyplot as pyplot\n",
        "import matplotlib.pyplot as plt              \n",
        "from inspect import signature\n",
        "import joblib\n",
        "from sklearn.calibration import (CalibratedClassifierCV, \n",
        "                                 _CalibratedClassifier, calibration_curve)  \n",
        "from sklearn.pipeline import Pipeline, FeatureUnion\n",
        "from sklearn.model_selection import RandomizedSearchCV\n",
        "from sklearn.preprocessing import FunctionTransformer, MinMaxScaler\n",
        "from sklearn.linear_model import LogisticRegression\n",
        "from sklearn.svm import SVC\n",
        "from sklearn.ensemble import RandomForestClassifier\n",
        "from sklearn.neural_network import MLPClassifier\n",
        "from sklearn.metrics import (make_scorer, roc_auc_score) #, cohen_kappa_score,confusion_matrix, precision_score,\n",
        "#                             accuracy_score, auc, average_precision_score, f1_score,\n",
        "#                             precision_recall_curve, recall_score, roc_curve)          \n",
        "import dill\n",
        "import sys\n",
        "from xgboost import XGBClassifier"
      ]
    },
    {
      "cell_type": "code",
      "execution_count": 48,
      "metadata": {
        "id": "4Fvx9k6ekcts"
      },
      "outputs": [],
      "source": [
        "df = pd.read_csv(\"./data/cleaned_df.csv\", delimiter=\",\")"
      ]
    },
    {
      "cell_type": "code",
      "execution_count": 49,
      "metadata": {
        "id": "7-eXYb6mkcts",
        "outputId": "b6fa4ff6-8572-4be4-8d43-7562a772e89a",
        "colab": {
          "base_uri": "https://localhost:8080/",
          "height": 522
        }
      },
      "outputs": [
        {
          "output_type": "execute_result",
          "data": {
            "text/plain": [
              "      patientunitstayid gender  age  admissionweight  admissionheight  \\\n",
              "0                242895   Male   80            101.2           170.18   \n",
              "1                242895   Male   80            101.2           170.18   \n",
              "2                242895   Male   80            101.2           170.18   \n",
              "3                242895   Male   80            101.2           170.18   \n",
              "4                242895   Male   80            101.2           170.18   \n",
              "...                 ...    ...  ...              ...              ...   \n",
              "4559            3352230   Male   41            127.0           177.80   \n",
              "4560            3352231   Male   41            127.0           177.80   \n",
              "4561            3352333   Male   72             68.3           177.80   \n",
              "4562            3353113   Male   50             88.0           188.00   \n",
              "4563            3353113   Male   50             88.0           188.00   \n",
              "\n",
              "             ethnicity  noninvasivesystolic  noninvasivediastolic  \\\n",
              "0            Caucasian           136.371429             73.028571   \n",
              "1            Caucasian           136.371429             73.028571   \n",
              "2            Caucasian           136.371429             73.028571   \n",
              "3            Caucasian           136.371429             73.028571   \n",
              "4            Caucasian           136.371429             73.028571   \n",
              "...                ...                  ...                   ...   \n",
              "4559  African American           117.101449             65.260870   \n",
              "4560  African American           128.000000             71.800000   \n",
              "4561         Caucasian           146.600000             81.628571   \n",
              "4562         Caucasian           136.022222             88.733333   \n",
              "4563         Caucasian           136.022222             88.733333   \n",
              "\n",
              "      noninvasivemean               ic9value diagnosispriority  \\\n",
              "0           87.857143         cardiaca_otros           Primary   \n",
              "1           87.857143         cardiaca_otros           Primary   \n",
              "2           87.857143         cardiaca_otros           Primary   \n",
              "3           87.857143         cardiaca_otros           Primary   \n",
              "4           87.857143         cardiaca_otros           Primary   \n",
              "...               ...                    ...               ...   \n",
              "4559        84.304348  cardiopatia_isquemica           Primary   \n",
              "4560        91.800000  cardiopatia_isquemica           Primary   \n",
              "4561       106.228571     non_cardiovascular           unknown   \n",
              "4562       107.511111           hipertension             Other   \n",
              "4563       107.511111           hipertension             Other   \n",
              "\n",
              "      cardiotreatment  \n",
              "0                True  \n",
              "1                True  \n",
              "2                True  \n",
              "3                True  \n",
              "4                True  \n",
              "...               ...  \n",
              "4559             True  \n",
              "4560             True  \n",
              "4561            False  \n",
              "4562            False  \n",
              "4563            False  \n",
              "\n",
              "[4564 rows x 12 columns]"
            ],
            "text/html": [
              "\n",
              "  <div id=\"df-4038c0bf-2359-41cc-b8ca-a4f3b8ba6341\">\n",
              "    <div class=\"colab-df-container\">\n",
              "      <div>\n",
              "<style scoped>\n",
              "    .dataframe tbody tr th:only-of-type {\n",
              "        vertical-align: middle;\n",
              "    }\n",
              "\n",
              "    .dataframe tbody tr th {\n",
              "        vertical-align: top;\n",
              "    }\n",
              "\n",
              "    .dataframe thead th {\n",
              "        text-align: right;\n",
              "    }\n",
              "</style>\n",
              "<table border=\"1\" class=\"dataframe\">\n",
              "  <thead>\n",
              "    <tr style=\"text-align: right;\">\n",
              "      <th></th>\n",
              "      <th>patientunitstayid</th>\n",
              "      <th>gender</th>\n",
              "      <th>age</th>\n",
              "      <th>admissionweight</th>\n",
              "      <th>admissionheight</th>\n",
              "      <th>ethnicity</th>\n",
              "      <th>noninvasivesystolic</th>\n",
              "      <th>noninvasivediastolic</th>\n",
              "      <th>noninvasivemean</th>\n",
              "      <th>ic9value</th>\n",
              "      <th>diagnosispriority</th>\n",
              "      <th>cardiotreatment</th>\n",
              "    </tr>\n",
              "  </thead>\n",
              "  <tbody>\n",
              "    <tr>\n",
              "      <th>0</th>\n",
              "      <td>242895</td>\n",
              "      <td>Male</td>\n",
              "      <td>80</td>\n",
              "      <td>101.2</td>\n",
              "      <td>170.18</td>\n",
              "      <td>Caucasian</td>\n",
              "      <td>136.371429</td>\n",
              "      <td>73.028571</td>\n",
              "      <td>87.857143</td>\n",
              "      <td>cardiaca_otros</td>\n",
              "      <td>Primary</td>\n",
              "      <td>True</td>\n",
              "    </tr>\n",
              "    <tr>\n",
              "      <th>1</th>\n",
              "      <td>242895</td>\n",
              "      <td>Male</td>\n",
              "      <td>80</td>\n",
              "      <td>101.2</td>\n",
              "      <td>170.18</td>\n",
              "      <td>Caucasian</td>\n",
              "      <td>136.371429</td>\n",
              "      <td>73.028571</td>\n",
              "      <td>87.857143</td>\n",
              "      <td>cardiaca_otros</td>\n",
              "      <td>Primary</td>\n",
              "      <td>True</td>\n",
              "    </tr>\n",
              "    <tr>\n",
              "      <th>2</th>\n",
              "      <td>242895</td>\n",
              "      <td>Male</td>\n",
              "      <td>80</td>\n",
              "      <td>101.2</td>\n",
              "      <td>170.18</td>\n",
              "      <td>Caucasian</td>\n",
              "      <td>136.371429</td>\n",
              "      <td>73.028571</td>\n",
              "      <td>87.857143</td>\n",
              "      <td>cardiaca_otros</td>\n",
              "      <td>Primary</td>\n",
              "      <td>True</td>\n",
              "    </tr>\n",
              "    <tr>\n",
              "      <th>3</th>\n",
              "      <td>242895</td>\n",
              "      <td>Male</td>\n",
              "      <td>80</td>\n",
              "      <td>101.2</td>\n",
              "      <td>170.18</td>\n",
              "      <td>Caucasian</td>\n",
              "      <td>136.371429</td>\n",
              "      <td>73.028571</td>\n",
              "      <td>87.857143</td>\n",
              "      <td>cardiaca_otros</td>\n",
              "      <td>Primary</td>\n",
              "      <td>True</td>\n",
              "    </tr>\n",
              "    <tr>\n",
              "      <th>4</th>\n",
              "      <td>242895</td>\n",
              "      <td>Male</td>\n",
              "      <td>80</td>\n",
              "      <td>101.2</td>\n",
              "      <td>170.18</td>\n",
              "      <td>Caucasian</td>\n",
              "      <td>136.371429</td>\n",
              "      <td>73.028571</td>\n",
              "      <td>87.857143</td>\n",
              "      <td>cardiaca_otros</td>\n",
              "      <td>Primary</td>\n",
              "      <td>True</td>\n",
              "    </tr>\n",
              "    <tr>\n",
              "      <th>...</th>\n",
              "      <td>...</td>\n",
              "      <td>...</td>\n",
              "      <td>...</td>\n",
              "      <td>...</td>\n",
              "      <td>...</td>\n",
              "      <td>...</td>\n",
              "      <td>...</td>\n",
              "      <td>...</td>\n",
              "      <td>...</td>\n",
              "      <td>...</td>\n",
              "      <td>...</td>\n",
              "      <td>...</td>\n",
              "    </tr>\n",
              "    <tr>\n",
              "      <th>4559</th>\n",
              "      <td>3352230</td>\n",
              "      <td>Male</td>\n",
              "      <td>41</td>\n",
              "      <td>127.0</td>\n",
              "      <td>177.80</td>\n",
              "      <td>African American</td>\n",
              "      <td>117.101449</td>\n",
              "      <td>65.260870</td>\n",
              "      <td>84.304348</td>\n",
              "      <td>cardiopatia_isquemica</td>\n",
              "      <td>Primary</td>\n",
              "      <td>True</td>\n",
              "    </tr>\n",
              "    <tr>\n",
              "      <th>4560</th>\n",
              "      <td>3352231</td>\n",
              "      <td>Male</td>\n",
              "      <td>41</td>\n",
              "      <td>127.0</td>\n",
              "      <td>177.80</td>\n",
              "      <td>African American</td>\n",
              "      <td>128.000000</td>\n",
              "      <td>71.800000</td>\n",
              "      <td>91.800000</td>\n",
              "      <td>cardiopatia_isquemica</td>\n",
              "      <td>Primary</td>\n",
              "      <td>True</td>\n",
              "    </tr>\n",
              "    <tr>\n",
              "      <th>4561</th>\n",
              "      <td>3352333</td>\n",
              "      <td>Male</td>\n",
              "      <td>72</td>\n",
              "      <td>68.3</td>\n",
              "      <td>177.80</td>\n",
              "      <td>Caucasian</td>\n",
              "      <td>146.600000</td>\n",
              "      <td>81.628571</td>\n",
              "      <td>106.228571</td>\n",
              "      <td>non_cardiovascular</td>\n",
              "      <td>unknown</td>\n",
              "      <td>False</td>\n",
              "    </tr>\n",
              "    <tr>\n",
              "      <th>4562</th>\n",
              "      <td>3353113</td>\n",
              "      <td>Male</td>\n",
              "      <td>50</td>\n",
              "      <td>88.0</td>\n",
              "      <td>188.00</td>\n",
              "      <td>Caucasian</td>\n",
              "      <td>136.022222</td>\n",
              "      <td>88.733333</td>\n",
              "      <td>107.511111</td>\n",
              "      <td>hipertension</td>\n",
              "      <td>Other</td>\n",
              "      <td>False</td>\n",
              "    </tr>\n",
              "    <tr>\n",
              "      <th>4563</th>\n",
              "      <td>3353113</td>\n",
              "      <td>Male</td>\n",
              "      <td>50</td>\n",
              "      <td>88.0</td>\n",
              "      <td>188.00</td>\n",
              "      <td>Caucasian</td>\n",
              "      <td>136.022222</td>\n",
              "      <td>88.733333</td>\n",
              "      <td>107.511111</td>\n",
              "      <td>hipertension</td>\n",
              "      <td>Other</td>\n",
              "      <td>False</td>\n",
              "    </tr>\n",
              "  </tbody>\n",
              "</table>\n",
              "<p>4564 rows × 12 columns</p>\n",
              "</div>\n",
              "      <button class=\"colab-df-convert\" onclick=\"convertToInteractive('df-4038c0bf-2359-41cc-b8ca-a4f3b8ba6341')\"\n",
              "              title=\"Convert this dataframe to an interactive table.\"\n",
              "              style=\"display:none;\">\n",
              "        \n",
              "  <svg xmlns=\"http://www.w3.org/2000/svg\" height=\"24px\"viewBox=\"0 0 24 24\"\n",
              "       width=\"24px\">\n",
              "    <path d=\"M0 0h24v24H0V0z\" fill=\"none\"/>\n",
              "    <path d=\"M18.56 5.44l.94 2.06.94-2.06 2.06-.94-2.06-.94-.94-2.06-.94 2.06-2.06.94zm-11 1L8.5 8.5l.94-2.06 2.06-.94-2.06-.94L8.5 2.5l-.94 2.06-2.06.94zm10 10l.94 2.06.94-2.06 2.06-.94-2.06-.94-.94-2.06-.94 2.06-2.06.94z\"/><path d=\"M17.41 7.96l-1.37-1.37c-.4-.4-.92-.59-1.43-.59-.52 0-1.04.2-1.43.59L10.3 9.45l-7.72 7.72c-.78.78-.78 2.05 0 2.83L4 21.41c.39.39.9.59 1.41.59.51 0 1.02-.2 1.41-.59l7.78-7.78 2.81-2.81c.8-.78.8-2.07 0-2.86zM5.41 20L4 18.59l7.72-7.72 1.47 1.35L5.41 20z\"/>\n",
              "  </svg>\n",
              "      </button>\n",
              "      \n",
              "  <style>\n",
              "    .colab-df-container {\n",
              "      display:flex;\n",
              "      flex-wrap:wrap;\n",
              "      gap: 12px;\n",
              "    }\n",
              "\n",
              "    .colab-df-convert {\n",
              "      background-color: #E8F0FE;\n",
              "      border: none;\n",
              "      border-radius: 50%;\n",
              "      cursor: pointer;\n",
              "      display: none;\n",
              "      fill: #1967D2;\n",
              "      height: 32px;\n",
              "      padding: 0 0 0 0;\n",
              "      width: 32px;\n",
              "    }\n",
              "\n",
              "    .colab-df-convert:hover {\n",
              "      background-color: #E2EBFA;\n",
              "      box-shadow: 0px 1px 2px rgba(60, 64, 67, 0.3), 0px 1px 3px 1px rgba(60, 64, 67, 0.15);\n",
              "      fill: #174EA6;\n",
              "    }\n",
              "\n",
              "    [theme=dark] .colab-df-convert {\n",
              "      background-color: #3B4455;\n",
              "      fill: #D2E3FC;\n",
              "    }\n",
              "\n",
              "    [theme=dark] .colab-df-convert:hover {\n",
              "      background-color: #434B5C;\n",
              "      box-shadow: 0px 1px 3px 1px rgba(0, 0, 0, 0.15);\n",
              "      filter: drop-shadow(0px 1px 2px rgba(0, 0, 0, 0.3));\n",
              "      fill: #FFFFFF;\n",
              "    }\n",
              "  </style>\n",
              "\n",
              "      <script>\n",
              "        const buttonEl =\n",
              "          document.querySelector('#df-4038c0bf-2359-41cc-b8ca-a4f3b8ba6341 button.colab-df-convert');\n",
              "        buttonEl.style.display =\n",
              "          google.colab.kernel.accessAllowed ? 'block' : 'none';\n",
              "\n",
              "        async function convertToInteractive(key) {\n",
              "          const element = document.querySelector('#df-4038c0bf-2359-41cc-b8ca-a4f3b8ba6341');\n",
              "          const dataTable =\n",
              "            await google.colab.kernel.invokeFunction('convertToInteractive',\n",
              "                                                     [key], {});\n",
              "          if (!dataTable) return;\n",
              "\n",
              "          const docLinkHtml = 'Like what you see? Visit the ' +\n",
              "            '<a target=\"_blank\" href=https://colab.research.google.com/notebooks/data_table.ipynb>data table notebook</a>'\n",
              "            + ' to learn more about interactive tables.';\n",
              "          element.innerHTML = '';\n",
              "          dataTable['output_type'] = 'display_data';\n",
              "          await google.colab.output.renderOutput(dataTable, element);\n",
              "          const docLink = document.createElement('div');\n",
              "          docLink.innerHTML = docLinkHtml;\n",
              "          element.appendChild(docLink);\n",
              "        }\n",
              "      </script>\n",
              "    </div>\n",
              "  </div>\n",
              "  "
            ]
          },
          "metadata": {},
          "execution_count": 49
        }
      ],
      "source": [
        "df"
      ]
    },
    {
      "cell_type": "code",
      "execution_count": 50,
      "metadata": {
        "id": "Rhx0QSAwkctt",
        "outputId": "abc05871-e8b5-4b85-f043-fe48625cf71b",
        "colab": {
          "base_uri": "https://localhost:8080/"
        }
      },
      "outputs": [
        {
          "output_type": "stream",
          "name": "stderr",
          "text": [
            "/usr/local/lib/python3.7/dist-packages/pandas/core/indexing.py:1732: SettingWithCopyWarning: \n",
            "A value is trying to be set on a copy of a slice from a DataFrame\n",
            "\n",
            "See the caveats in the documentation: https://pandas.pydata.org/pandas-docs/stable/user_guide/indexing.html#returning-a-view-versus-a-copy\n",
            "  self._setitem_single_block(indexer, value, name)\n"
          ]
        }
      ],
      "source": [
        "# Converting categorical variables to numeric\n",
        "df.gender.loc[df.gender == 'Male'] = 1\n",
        "df.gender.loc[df.gender == 'Female'] = 0\n",
        "\n",
        "df.age.loc[df.age == '> 89'] = 89\n",
        "df.age = df.age.astype(float)\n",
        "\n",
        "df.ethnicity.loc[df.ethnicity == 'Caucasian'] = 0\n",
        "df.ethnicity.loc[df.ethnicity == 'Native American'] = 1\n",
        "df.ethnicity.loc[df.ethnicity == 'African American'] = 2\n",
        "df.ethnicity.loc[df.ethnicity == 'Hispanic'] = 3\n",
        "df.ethnicity.loc[df.ethnicity == 'Asian'] = 4\n",
        "df.ethnicity.loc[df.ethnicity == 'Other/Unknown'] = 5\n",
        "\n",
        "df.ic9value.loc[df.ic9value == 'cardiaca_otros'] = 0\n",
        "df.ic9value.loc[df.ic9value == 'non_cardiovascular'] = 1\n",
        "df.ic9value.loc[df.ic9value == 'hipertension'] = 0\n",
        "df.ic9value.loc[df.ic9value == 'cardiopatia_isquemica'] = 2\n",
        "df.ic9value.loc[df.ic9value == 'cerebrovascular'] = 3\n",
        "df.ic9value.loc[df.ic9value == 'circulacion_pulmonar'] = 4\n",
        "df.ic9value.loc[df.ic9value == 'arterios_capilares'] = 5\n",
        "df.ic9value.loc[df.ic9value == 'cardiaca_reumatica_cronica'] = 6\n",
        "df.ic9value.loc[df.ic9value == 'sistema_circulatorio'] = 7\n",
        "df.ic9value.loc[df.ic9value == 'venas_linfaticos'] = 7\n",
        "\n",
        "df.diagnosispriority.loc[df.diagnosispriority == 'Major'] = 0\n",
        "df.diagnosispriority.loc[df.diagnosispriority == 'Other'] = 1\n",
        "df.diagnosispriority.loc[df.diagnosispriority == 'unknown'] = 2\n",
        "df.diagnosispriority.loc[df.diagnosispriority == 'Primary'] = 3\n",
        "\n",
        "df.cardiotreatment.loc[df.cardiotreatment == True] = 1\n",
        "df.cardiotreatment.loc[df.cardiotreatment == False] = 0\n"
      ]
    },
    {
      "cell_type": "code",
      "execution_count": 51,
      "metadata": {
        "id": "3c6YtVIBkctu",
        "outputId": "03bdc762-9f8b-4566-bd9d-eec5afa34618",
        "colab": {
          "base_uri": "https://localhost:8080/"
        }
      },
      "outputs": [
        {
          "output_type": "execute_result",
          "data": {
            "text/plain": [
              "0    2551\n",
              "1     978\n",
              "2     449\n",
              "7     273\n",
              "3     204\n",
              "4      78\n",
              "5      23\n",
              "6       8\n",
              "Name: ic9value, dtype: int64"
            ]
          },
          "metadata": {},
          "execution_count": 51
        }
      ],
      "source": [
        "df.ic9value.value_counts()"
      ]
    },
    {
      "cell_type": "code",
      "execution_count": 52,
      "metadata": {
        "id": "HciCIxhtkctu",
        "outputId": "912833fa-5d13-4769-9611-ea449e01da3f",
        "colab": {
          "base_uri": "https://localhost:8080/",
          "height": 424
        }
      },
      "outputs": [
        {
          "output_type": "execute_result",
          "data": {
            "text/plain": [
              "      patientunitstayid gender   age  admissionweight  admissionheight  \\\n",
              "0                242895      1  80.0            101.2           170.18   \n",
              "1                242895      1  80.0            101.2           170.18   \n",
              "2                242895      1  80.0            101.2           170.18   \n",
              "3                242895      1  80.0            101.2           170.18   \n",
              "4                242895      1  80.0            101.2           170.18   \n",
              "...                 ...    ...   ...              ...              ...   \n",
              "4559            3352230      1  41.0            127.0           177.80   \n",
              "4560            3352231      1  41.0            127.0           177.80   \n",
              "4561            3352333      1  72.0             68.3           177.80   \n",
              "4562            3353113      1  50.0             88.0           188.00   \n",
              "4563            3353113      1  50.0             88.0           188.00   \n",
              "\n",
              "     ethnicity  noninvasivesystolic  noninvasivediastolic  noninvasivemean  \\\n",
              "0            0           136.371429             73.028571        87.857143   \n",
              "1            0           136.371429             73.028571        87.857143   \n",
              "2            0           136.371429             73.028571        87.857143   \n",
              "3            0           136.371429             73.028571        87.857143   \n",
              "4            0           136.371429             73.028571        87.857143   \n",
              "...        ...                  ...                   ...              ...   \n",
              "4559         2           117.101449             65.260870        84.304348   \n",
              "4560         2           128.000000             71.800000        91.800000   \n",
              "4561         0           146.600000             81.628571       106.228571   \n",
              "4562         0           136.022222             88.733333       107.511111   \n",
              "4563         0           136.022222             88.733333       107.511111   \n",
              "\n",
              "     ic9value diagnosispriority cardiotreatment  \n",
              "0           0                 3               1  \n",
              "1           0                 3               1  \n",
              "2           0                 3               1  \n",
              "3           0                 3               1  \n",
              "4           0                 3               1  \n",
              "...       ...               ...             ...  \n",
              "4559        2                 3               1  \n",
              "4560        2                 3               1  \n",
              "4561        1                 2               0  \n",
              "4562        0                 1               0  \n",
              "4563        0                 1               0  \n",
              "\n",
              "[4564 rows x 12 columns]"
            ],
            "text/html": [
              "\n",
              "  <div id=\"df-130fbb8b-5b49-4174-92b9-beb0dbb9bc24\">\n",
              "    <div class=\"colab-df-container\">\n",
              "      <div>\n",
              "<style scoped>\n",
              "    .dataframe tbody tr th:only-of-type {\n",
              "        vertical-align: middle;\n",
              "    }\n",
              "\n",
              "    .dataframe tbody tr th {\n",
              "        vertical-align: top;\n",
              "    }\n",
              "\n",
              "    .dataframe thead th {\n",
              "        text-align: right;\n",
              "    }\n",
              "</style>\n",
              "<table border=\"1\" class=\"dataframe\">\n",
              "  <thead>\n",
              "    <tr style=\"text-align: right;\">\n",
              "      <th></th>\n",
              "      <th>patientunitstayid</th>\n",
              "      <th>gender</th>\n",
              "      <th>age</th>\n",
              "      <th>admissionweight</th>\n",
              "      <th>admissionheight</th>\n",
              "      <th>ethnicity</th>\n",
              "      <th>noninvasivesystolic</th>\n",
              "      <th>noninvasivediastolic</th>\n",
              "      <th>noninvasivemean</th>\n",
              "      <th>ic9value</th>\n",
              "      <th>diagnosispriority</th>\n",
              "      <th>cardiotreatment</th>\n",
              "    </tr>\n",
              "  </thead>\n",
              "  <tbody>\n",
              "    <tr>\n",
              "      <th>0</th>\n",
              "      <td>242895</td>\n",
              "      <td>1</td>\n",
              "      <td>80.0</td>\n",
              "      <td>101.2</td>\n",
              "      <td>170.18</td>\n",
              "      <td>0</td>\n",
              "      <td>136.371429</td>\n",
              "      <td>73.028571</td>\n",
              "      <td>87.857143</td>\n",
              "      <td>0</td>\n",
              "      <td>3</td>\n",
              "      <td>1</td>\n",
              "    </tr>\n",
              "    <tr>\n",
              "      <th>1</th>\n",
              "      <td>242895</td>\n",
              "      <td>1</td>\n",
              "      <td>80.0</td>\n",
              "      <td>101.2</td>\n",
              "      <td>170.18</td>\n",
              "      <td>0</td>\n",
              "      <td>136.371429</td>\n",
              "      <td>73.028571</td>\n",
              "      <td>87.857143</td>\n",
              "      <td>0</td>\n",
              "      <td>3</td>\n",
              "      <td>1</td>\n",
              "    </tr>\n",
              "    <tr>\n",
              "      <th>2</th>\n",
              "      <td>242895</td>\n",
              "      <td>1</td>\n",
              "      <td>80.0</td>\n",
              "      <td>101.2</td>\n",
              "      <td>170.18</td>\n",
              "      <td>0</td>\n",
              "      <td>136.371429</td>\n",
              "      <td>73.028571</td>\n",
              "      <td>87.857143</td>\n",
              "      <td>0</td>\n",
              "      <td>3</td>\n",
              "      <td>1</td>\n",
              "    </tr>\n",
              "    <tr>\n",
              "      <th>3</th>\n",
              "      <td>242895</td>\n",
              "      <td>1</td>\n",
              "      <td>80.0</td>\n",
              "      <td>101.2</td>\n",
              "      <td>170.18</td>\n",
              "      <td>0</td>\n",
              "      <td>136.371429</td>\n",
              "      <td>73.028571</td>\n",
              "      <td>87.857143</td>\n",
              "      <td>0</td>\n",
              "      <td>3</td>\n",
              "      <td>1</td>\n",
              "    </tr>\n",
              "    <tr>\n",
              "      <th>4</th>\n",
              "      <td>242895</td>\n",
              "      <td>1</td>\n",
              "      <td>80.0</td>\n",
              "      <td>101.2</td>\n",
              "      <td>170.18</td>\n",
              "      <td>0</td>\n",
              "      <td>136.371429</td>\n",
              "      <td>73.028571</td>\n",
              "      <td>87.857143</td>\n",
              "      <td>0</td>\n",
              "      <td>3</td>\n",
              "      <td>1</td>\n",
              "    </tr>\n",
              "    <tr>\n",
              "      <th>...</th>\n",
              "      <td>...</td>\n",
              "      <td>...</td>\n",
              "      <td>...</td>\n",
              "      <td>...</td>\n",
              "      <td>...</td>\n",
              "      <td>...</td>\n",
              "      <td>...</td>\n",
              "      <td>...</td>\n",
              "      <td>...</td>\n",
              "      <td>...</td>\n",
              "      <td>...</td>\n",
              "      <td>...</td>\n",
              "    </tr>\n",
              "    <tr>\n",
              "      <th>4559</th>\n",
              "      <td>3352230</td>\n",
              "      <td>1</td>\n",
              "      <td>41.0</td>\n",
              "      <td>127.0</td>\n",
              "      <td>177.80</td>\n",
              "      <td>2</td>\n",
              "      <td>117.101449</td>\n",
              "      <td>65.260870</td>\n",
              "      <td>84.304348</td>\n",
              "      <td>2</td>\n",
              "      <td>3</td>\n",
              "      <td>1</td>\n",
              "    </tr>\n",
              "    <tr>\n",
              "      <th>4560</th>\n",
              "      <td>3352231</td>\n",
              "      <td>1</td>\n",
              "      <td>41.0</td>\n",
              "      <td>127.0</td>\n",
              "      <td>177.80</td>\n",
              "      <td>2</td>\n",
              "      <td>128.000000</td>\n",
              "      <td>71.800000</td>\n",
              "      <td>91.800000</td>\n",
              "      <td>2</td>\n",
              "      <td>3</td>\n",
              "      <td>1</td>\n",
              "    </tr>\n",
              "    <tr>\n",
              "      <th>4561</th>\n",
              "      <td>3352333</td>\n",
              "      <td>1</td>\n",
              "      <td>72.0</td>\n",
              "      <td>68.3</td>\n",
              "      <td>177.80</td>\n",
              "      <td>0</td>\n",
              "      <td>146.600000</td>\n",
              "      <td>81.628571</td>\n",
              "      <td>106.228571</td>\n",
              "      <td>1</td>\n",
              "      <td>2</td>\n",
              "      <td>0</td>\n",
              "    </tr>\n",
              "    <tr>\n",
              "      <th>4562</th>\n",
              "      <td>3353113</td>\n",
              "      <td>1</td>\n",
              "      <td>50.0</td>\n",
              "      <td>88.0</td>\n",
              "      <td>188.00</td>\n",
              "      <td>0</td>\n",
              "      <td>136.022222</td>\n",
              "      <td>88.733333</td>\n",
              "      <td>107.511111</td>\n",
              "      <td>0</td>\n",
              "      <td>1</td>\n",
              "      <td>0</td>\n",
              "    </tr>\n",
              "    <tr>\n",
              "      <th>4563</th>\n",
              "      <td>3353113</td>\n",
              "      <td>1</td>\n",
              "      <td>50.0</td>\n",
              "      <td>88.0</td>\n",
              "      <td>188.00</td>\n",
              "      <td>0</td>\n",
              "      <td>136.022222</td>\n",
              "      <td>88.733333</td>\n",
              "      <td>107.511111</td>\n",
              "      <td>0</td>\n",
              "      <td>1</td>\n",
              "      <td>0</td>\n",
              "    </tr>\n",
              "  </tbody>\n",
              "</table>\n",
              "<p>4564 rows × 12 columns</p>\n",
              "</div>\n",
              "      <button class=\"colab-df-convert\" onclick=\"convertToInteractive('df-130fbb8b-5b49-4174-92b9-beb0dbb9bc24')\"\n",
              "              title=\"Convert this dataframe to an interactive table.\"\n",
              "              style=\"display:none;\">\n",
              "        \n",
              "  <svg xmlns=\"http://www.w3.org/2000/svg\" height=\"24px\"viewBox=\"0 0 24 24\"\n",
              "       width=\"24px\">\n",
              "    <path d=\"M0 0h24v24H0V0z\" fill=\"none\"/>\n",
              "    <path d=\"M18.56 5.44l.94 2.06.94-2.06 2.06-.94-2.06-.94-.94-2.06-.94 2.06-2.06.94zm-11 1L8.5 8.5l.94-2.06 2.06-.94-2.06-.94L8.5 2.5l-.94 2.06-2.06.94zm10 10l.94 2.06.94-2.06 2.06-.94-2.06-.94-.94-2.06-.94 2.06-2.06.94z\"/><path d=\"M17.41 7.96l-1.37-1.37c-.4-.4-.92-.59-1.43-.59-.52 0-1.04.2-1.43.59L10.3 9.45l-7.72 7.72c-.78.78-.78 2.05 0 2.83L4 21.41c.39.39.9.59 1.41.59.51 0 1.02-.2 1.41-.59l7.78-7.78 2.81-2.81c.8-.78.8-2.07 0-2.86zM5.41 20L4 18.59l7.72-7.72 1.47 1.35L5.41 20z\"/>\n",
              "  </svg>\n",
              "      </button>\n",
              "      \n",
              "  <style>\n",
              "    .colab-df-container {\n",
              "      display:flex;\n",
              "      flex-wrap:wrap;\n",
              "      gap: 12px;\n",
              "    }\n",
              "\n",
              "    .colab-df-convert {\n",
              "      background-color: #E8F0FE;\n",
              "      border: none;\n",
              "      border-radius: 50%;\n",
              "      cursor: pointer;\n",
              "      display: none;\n",
              "      fill: #1967D2;\n",
              "      height: 32px;\n",
              "      padding: 0 0 0 0;\n",
              "      width: 32px;\n",
              "    }\n",
              "\n",
              "    .colab-df-convert:hover {\n",
              "      background-color: #E2EBFA;\n",
              "      box-shadow: 0px 1px 2px rgba(60, 64, 67, 0.3), 0px 1px 3px 1px rgba(60, 64, 67, 0.15);\n",
              "      fill: #174EA6;\n",
              "    }\n",
              "\n",
              "    [theme=dark] .colab-df-convert {\n",
              "      background-color: #3B4455;\n",
              "      fill: #D2E3FC;\n",
              "    }\n",
              "\n",
              "    [theme=dark] .colab-df-convert:hover {\n",
              "      background-color: #434B5C;\n",
              "      box-shadow: 0px 1px 3px 1px rgba(0, 0, 0, 0.15);\n",
              "      filter: drop-shadow(0px 1px 2px rgba(0, 0, 0, 0.3));\n",
              "      fill: #FFFFFF;\n",
              "    }\n",
              "  </style>\n",
              "\n",
              "      <script>\n",
              "        const buttonEl =\n",
              "          document.querySelector('#df-130fbb8b-5b49-4174-92b9-beb0dbb9bc24 button.colab-df-convert');\n",
              "        buttonEl.style.display =\n",
              "          google.colab.kernel.accessAllowed ? 'block' : 'none';\n",
              "\n",
              "        async function convertToInteractive(key) {\n",
              "          const element = document.querySelector('#df-130fbb8b-5b49-4174-92b9-beb0dbb9bc24');\n",
              "          const dataTable =\n",
              "            await google.colab.kernel.invokeFunction('convertToInteractive',\n",
              "                                                     [key], {});\n",
              "          if (!dataTable) return;\n",
              "\n",
              "          const docLinkHtml = 'Like what you see? Visit the ' +\n",
              "            '<a target=\"_blank\" href=https://colab.research.google.com/notebooks/data_table.ipynb>data table notebook</a>'\n",
              "            + ' to learn more about interactive tables.';\n",
              "          element.innerHTML = '';\n",
              "          dataTable['output_type'] = 'display_data';\n",
              "          await google.colab.output.renderOutput(dataTable, element);\n",
              "          const docLink = document.createElement('div');\n",
              "          docLink.innerHTML = docLinkHtml;\n",
              "          element.appendChild(docLink);\n",
              "        }\n",
              "      </script>\n",
              "    </div>\n",
              "  </div>\n",
              "  "
            ]
          },
          "metadata": {},
          "execution_count": 52
        }
      ],
      "source": [
        "df"
      ]
    },
    {
      "cell_type": "markdown",
      "metadata": {
        "id": "jWf5IGWakctv"
      },
      "source": [
        "Split data into x y training and x y test sets"
      ]
    },
    {
      "cell_type": "code",
      "execution_count": 53,
      "metadata": {
        "id": "09BfcXbikctx"
      },
      "outputs": [],
      "source": [
        "df = df.drop(columns = ['patientunitstayid']) \n",
        "train, test = train_test_split(df, test_size=0.25, random_state=25)\n",
        "\n",
        "y_train = train['cardiotreatment']\n",
        "X_train = train.drop(columns = ['cardiotreatment'])\n",
        "\n",
        "y_test = test['cardiotreatment']\n",
        "X_test = test.drop(columns = ['cardiotreatment'])\n",
        "   \n",
        "y_train = y_train.astype('int')\n",
        "y_test = y_test.astype('int')\n",
        "# All    \n",
        "\n",
        "X_num = X_train.drop(columns = ['gender','ethnicity', 'ic9value', 'diagnosispriority'])\n",
        "#X_num = X_train.drop(columns = ['gender','ethnicity', 'diagnosispriority'])\n",
        "\n",
        "get_numeric_data = FunctionTransformer(lambda x: x[X_num.columns], validate=False)\n",
        "\n",
        "get_categorical = FunctionTransformer(lambda x: x[['gender','ethnicity', 'ic9value', 'diagnosispriority']], validate=False) \n",
        "#get_categorical = FunctionTransformer(lambda x: x[['gender','ethnicity','diagnosispriority']], validate=False) \n",
        "\n",
        "scaler = MinMaxScaler()\n"
      ]
    },
    {
      "cell_type": "code",
      "execution_count": 54,
      "metadata": {
        "id": "nXuytkkAkctz",
        "outputId": "ff3f1ee7-ab2d-4f9d-aede-b4924d9f8334",
        "colab": {
          "base_uri": "https://localhost:8080/",
          "height": 424
        }
      },
      "outputs": [
        {
          "output_type": "execute_result",
          "data": {
            "text/plain": [
              "     gender   age  admissionweight  admissionheight ethnicity  \\\n",
              "0         1  80.0            101.2           170.18         0   \n",
              "1         1  80.0            101.2           170.18         0   \n",
              "2         1  80.0            101.2           170.18         0   \n",
              "3         1  80.0            101.2           170.18         0   \n",
              "4         1  80.0            101.2           170.18         0   \n",
              "...     ...   ...              ...              ...       ...   \n",
              "4559      1  41.0            127.0           177.80         2   \n",
              "4560      1  41.0            127.0           177.80         2   \n",
              "4561      1  72.0             68.3           177.80         0   \n",
              "4562      1  50.0             88.0           188.00         0   \n",
              "4563      1  50.0             88.0           188.00         0   \n",
              "\n",
              "      noninvasivesystolic  noninvasivediastolic  noninvasivemean ic9value  \\\n",
              "0              136.371429             73.028571        87.857143        0   \n",
              "1              136.371429             73.028571        87.857143        0   \n",
              "2              136.371429             73.028571        87.857143        0   \n",
              "3              136.371429             73.028571        87.857143        0   \n",
              "4              136.371429             73.028571        87.857143        0   \n",
              "...                   ...                   ...              ...      ...   \n",
              "4559           117.101449             65.260870        84.304348        2   \n",
              "4560           128.000000             71.800000        91.800000        2   \n",
              "4561           146.600000             81.628571       106.228571        1   \n",
              "4562           136.022222             88.733333       107.511111        0   \n",
              "4563           136.022222             88.733333       107.511111        0   \n",
              "\n",
              "     diagnosispriority cardiotreatment  \n",
              "0                    3               1  \n",
              "1                    3               1  \n",
              "2                    3               1  \n",
              "3                    3               1  \n",
              "4                    3               1  \n",
              "...                ...             ...  \n",
              "4559                 3               1  \n",
              "4560                 3               1  \n",
              "4561                 2               0  \n",
              "4562                 1               0  \n",
              "4563                 1               0  \n",
              "\n",
              "[4564 rows x 11 columns]"
            ],
            "text/html": [
              "\n",
              "  <div id=\"df-6ffe65f2-313a-4e32-bfbe-096a1dac884f\">\n",
              "    <div class=\"colab-df-container\">\n",
              "      <div>\n",
              "<style scoped>\n",
              "    .dataframe tbody tr th:only-of-type {\n",
              "        vertical-align: middle;\n",
              "    }\n",
              "\n",
              "    .dataframe tbody tr th {\n",
              "        vertical-align: top;\n",
              "    }\n",
              "\n",
              "    .dataframe thead th {\n",
              "        text-align: right;\n",
              "    }\n",
              "</style>\n",
              "<table border=\"1\" class=\"dataframe\">\n",
              "  <thead>\n",
              "    <tr style=\"text-align: right;\">\n",
              "      <th></th>\n",
              "      <th>gender</th>\n",
              "      <th>age</th>\n",
              "      <th>admissionweight</th>\n",
              "      <th>admissionheight</th>\n",
              "      <th>ethnicity</th>\n",
              "      <th>noninvasivesystolic</th>\n",
              "      <th>noninvasivediastolic</th>\n",
              "      <th>noninvasivemean</th>\n",
              "      <th>ic9value</th>\n",
              "      <th>diagnosispriority</th>\n",
              "      <th>cardiotreatment</th>\n",
              "    </tr>\n",
              "  </thead>\n",
              "  <tbody>\n",
              "    <tr>\n",
              "      <th>0</th>\n",
              "      <td>1</td>\n",
              "      <td>80.0</td>\n",
              "      <td>101.2</td>\n",
              "      <td>170.18</td>\n",
              "      <td>0</td>\n",
              "      <td>136.371429</td>\n",
              "      <td>73.028571</td>\n",
              "      <td>87.857143</td>\n",
              "      <td>0</td>\n",
              "      <td>3</td>\n",
              "      <td>1</td>\n",
              "    </tr>\n",
              "    <tr>\n",
              "      <th>1</th>\n",
              "      <td>1</td>\n",
              "      <td>80.0</td>\n",
              "      <td>101.2</td>\n",
              "      <td>170.18</td>\n",
              "      <td>0</td>\n",
              "      <td>136.371429</td>\n",
              "      <td>73.028571</td>\n",
              "      <td>87.857143</td>\n",
              "      <td>0</td>\n",
              "      <td>3</td>\n",
              "      <td>1</td>\n",
              "    </tr>\n",
              "    <tr>\n",
              "      <th>2</th>\n",
              "      <td>1</td>\n",
              "      <td>80.0</td>\n",
              "      <td>101.2</td>\n",
              "      <td>170.18</td>\n",
              "      <td>0</td>\n",
              "      <td>136.371429</td>\n",
              "      <td>73.028571</td>\n",
              "      <td>87.857143</td>\n",
              "      <td>0</td>\n",
              "      <td>3</td>\n",
              "      <td>1</td>\n",
              "    </tr>\n",
              "    <tr>\n",
              "      <th>3</th>\n",
              "      <td>1</td>\n",
              "      <td>80.0</td>\n",
              "      <td>101.2</td>\n",
              "      <td>170.18</td>\n",
              "      <td>0</td>\n",
              "      <td>136.371429</td>\n",
              "      <td>73.028571</td>\n",
              "      <td>87.857143</td>\n",
              "      <td>0</td>\n",
              "      <td>3</td>\n",
              "      <td>1</td>\n",
              "    </tr>\n",
              "    <tr>\n",
              "      <th>4</th>\n",
              "      <td>1</td>\n",
              "      <td>80.0</td>\n",
              "      <td>101.2</td>\n",
              "      <td>170.18</td>\n",
              "      <td>0</td>\n",
              "      <td>136.371429</td>\n",
              "      <td>73.028571</td>\n",
              "      <td>87.857143</td>\n",
              "      <td>0</td>\n",
              "      <td>3</td>\n",
              "      <td>1</td>\n",
              "    </tr>\n",
              "    <tr>\n",
              "      <th>...</th>\n",
              "      <td>...</td>\n",
              "      <td>...</td>\n",
              "      <td>...</td>\n",
              "      <td>...</td>\n",
              "      <td>...</td>\n",
              "      <td>...</td>\n",
              "      <td>...</td>\n",
              "      <td>...</td>\n",
              "      <td>...</td>\n",
              "      <td>...</td>\n",
              "      <td>...</td>\n",
              "    </tr>\n",
              "    <tr>\n",
              "      <th>4559</th>\n",
              "      <td>1</td>\n",
              "      <td>41.0</td>\n",
              "      <td>127.0</td>\n",
              "      <td>177.80</td>\n",
              "      <td>2</td>\n",
              "      <td>117.101449</td>\n",
              "      <td>65.260870</td>\n",
              "      <td>84.304348</td>\n",
              "      <td>2</td>\n",
              "      <td>3</td>\n",
              "      <td>1</td>\n",
              "    </tr>\n",
              "    <tr>\n",
              "      <th>4560</th>\n",
              "      <td>1</td>\n",
              "      <td>41.0</td>\n",
              "      <td>127.0</td>\n",
              "      <td>177.80</td>\n",
              "      <td>2</td>\n",
              "      <td>128.000000</td>\n",
              "      <td>71.800000</td>\n",
              "      <td>91.800000</td>\n",
              "      <td>2</td>\n",
              "      <td>3</td>\n",
              "      <td>1</td>\n",
              "    </tr>\n",
              "    <tr>\n",
              "      <th>4561</th>\n",
              "      <td>1</td>\n",
              "      <td>72.0</td>\n",
              "      <td>68.3</td>\n",
              "      <td>177.80</td>\n",
              "      <td>0</td>\n",
              "      <td>146.600000</td>\n",
              "      <td>81.628571</td>\n",
              "      <td>106.228571</td>\n",
              "      <td>1</td>\n",
              "      <td>2</td>\n",
              "      <td>0</td>\n",
              "    </tr>\n",
              "    <tr>\n",
              "      <th>4562</th>\n",
              "      <td>1</td>\n",
              "      <td>50.0</td>\n",
              "      <td>88.0</td>\n",
              "      <td>188.00</td>\n",
              "      <td>0</td>\n",
              "      <td>136.022222</td>\n",
              "      <td>88.733333</td>\n",
              "      <td>107.511111</td>\n",
              "      <td>0</td>\n",
              "      <td>1</td>\n",
              "      <td>0</td>\n",
              "    </tr>\n",
              "    <tr>\n",
              "      <th>4563</th>\n",
              "      <td>1</td>\n",
              "      <td>50.0</td>\n",
              "      <td>88.0</td>\n",
              "      <td>188.00</td>\n",
              "      <td>0</td>\n",
              "      <td>136.022222</td>\n",
              "      <td>88.733333</td>\n",
              "      <td>107.511111</td>\n",
              "      <td>0</td>\n",
              "      <td>1</td>\n",
              "      <td>0</td>\n",
              "    </tr>\n",
              "  </tbody>\n",
              "</table>\n",
              "<p>4564 rows × 11 columns</p>\n",
              "</div>\n",
              "      <button class=\"colab-df-convert\" onclick=\"convertToInteractive('df-6ffe65f2-313a-4e32-bfbe-096a1dac884f')\"\n",
              "              title=\"Convert this dataframe to an interactive table.\"\n",
              "              style=\"display:none;\">\n",
              "        \n",
              "  <svg xmlns=\"http://www.w3.org/2000/svg\" height=\"24px\"viewBox=\"0 0 24 24\"\n",
              "       width=\"24px\">\n",
              "    <path d=\"M0 0h24v24H0V0z\" fill=\"none\"/>\n",
              "    <path d=\"M18.56 5.44l.94 2.06.94-2.06 2.06-.94-2.06-.94-.94-2.06-.94 2.06-2.06.94zm-11 1L8.5 8.5l.94-2.06 2.06-.94-2.06-.94L8.5 2.5l-.94 2.06-2.06.94zm10 10l.94 2.06.94-2.06 2.06-.94-2.06-.94-.94-2.06-.94 2.06-2.06.94z\"/><path d=\"M17.41 7.96l-1.37-1.37c-.4-.4-.92-.59-1.43-.59-.52 0-1.04.2-1.43.59L10.3 9.45l-7.72 7.72c-.78.78-.78 2.05 0 2.83L4 21.41c.39.39.9.59 1.41.59.51 0 1.02-.2 1.41-.59l7.78-7.78 2.81-2.81c.8-.78.8-2.07 0-2.86zM5.41 20L4 18.59l7.72-7.72 1.47 1.35L5.41 20z\"/>\n",
              "  </svg>\n",
              "      </button>\n",
              "      \n",
              "  <style>\n",
              "    .colab-df-container {\n",
              "      display:flex;\n",
              "      flex-wrap:wrap;\n",
              "      gap: 12px;\n",
              "    }\n",
              "\n",
              "    .colab-df-convert {\n",
              "      background-color: #E8F0FE;\n",
              "      border: none;\n",
              "      border-radius: 50%;\n",
              "      cursor: pointer;\n",
              "      display: none;\n",
              "      fill: #1967D2;\n",
              "      height: 32px;\n",
              "      padding: 0 0 0 0;\n",
              "      width: 32px;\n",
              "    }\n",
              "\n",
              "    .colab-df-convert:hover {\n",
              "      background-color: #E2EBFA;\n",
              "      box-shadow: 0px 1px 2px rgba(60, 64, 67, 0.3), 0px 1px 3px 1px rgba(60, 64, 67, 0.15);\n",
              "      fill: #174EA6;\n",
              "    }\n",
              "\n",
              "    [theme=dark] .colab-df-convert {\n",
              "      background-color: #3B4455;\n",
              "      fill: #D2E3FC;\n",
              "    }\n",
              "\n",
              "    [theme=dark] .colab-df-convert:hover {\n",
              "      background-color: #434B5C;\n",
              "      box-shadow: 0px 1px 3px 1px rgba(0, 0, 0, 0.15);\n",
              "      filter: drop-shadow(0px 1px 2px rgba(0, 0, 0, 0.3));\n",
              "      fill: #FFFFFF;\n",
              "    }\n",
              "  </style>\n",
              "\n",
              "      <script>\n",
              "        const buttonEl =\n",
              "          document.querySelector('#df-6ffe65f2-313a-4e32-bfbe-096a1dac884f button.colab-df-convert');\n",
              "        buttonEl.style.display =\n",
              "          google.colab.kernel.accessAllowed ? 'block' : 'none';\n",
              "\n",
              "        async function convertToInteractive(key) {\n",
              "          const element = document.querySelector('#df-6ffe65f2-313a-4e32-bfbe-096a1dac884f');\n",
              "          const dataTable =\n",
              "            await google.colab.kernel.invokeFunction('convertToInteractive',\n",
              "                                                     [key], {});\n",
              "          if (!dataTable) return;\n",
              "\n",
              "          const docLinkHtml = 'Like what you see? Visit the ' +\n",
              "            '<a target=\"_blank\" href=https://colab.research.google.com/notebooks/data_table.ipynb>data table notebook</a>'\n",
              "            + ' to learn more about interactive tables.';\n",
              "          element.innerHTML = '';\n",
              "          dataTable['output_type'] = 'display_data';\n",
              "          await google.colab.output.renderOutput(dataTable, element);\n",
              "          const docLink = document.createElement('div');\n",
              "          docLink.innerHTML = docLinkHtml;\n",
              "          element.appendChild(docLink);\n",
              "        }\n",
              "      </script>\n",
              "    </div>\n",
              "  </div>\n",
              "  "
            ]
          },
          "metadata": {},
          "execution_count": 54
        }
      ],
      "source": [
        "df"
      ]
    },
    {
      "cell_type": "code",
      "execution_count": 55,
      "metadata": {
        "id": "f-AQ6O2gkctz",
        "outputId": "ba35a642-51b3-4fb7-a83d-0a82943a43a5",
        "colab": {
          "base_uri": "https://localhost:8080/"
        }
      },
      "outputs": [
        {
          "output_type": "execute_result",
          "data": {
            "text/plain": [
              "gender                   object\n",
              "age                     float64\n",
              "admissionweight         float64\n",
              "admissionheight         float64\n",
              "ethnicity                object\n",
              "noninvasivesystolic     float64\n",
              "noninvasivediastolic    float64\n",
              "noninvasivemean         float64\n",
              "ic9value                 object\n",
              "diagnosispriority        object\n",
              "cardiotreatment          object\n",
              "dtype: object"
            ]
          },
          "metadata": {},
          "execution_count": 55
        }
      ],
      "source": [
        "df.dtypes"
      ]
    },
    {
      "cell_type": "code",
      "execution_count": 56,
      "metadata": {
        "id": "-_kmN4iwkct0",
        "outputId": "3c7deb6c-4e49-45a2-906e-4bc984581208",
        "colab": {
          "base_uri": "https://localhost:8080/"
        }
      },
      "outputs": [
        {
          "output_type": "execute_result",
          "data": {
            "text/plain": [
              "dtype('int64')"
            ]
          },
          "metadata": {},
          "execution_count": 56
        }
      ],
      "source": [
        "y_train.dtypes"
      ]
    },
    {
      "cell_type": "code",
      "execution_count": 57,
      "metadata": {
        "id": "42J5K4E1kct1",
        "outputId": "fa68a21a-f01f-448f-9323-5d58314c6885",
        "colab": {
          "base_uri": "https://localhost:8080/"
        }
      },
      "outputs": [
        {
          "output_type": "execute_result",
          "data": {
            "text/plain": [
              "gender                   object\n",
              "age                     float64\n",
              "admissionweight         float64\n",
              "admissionheight         float64\n",
              "ethnicity                object\n",
              "noninvasivesystolic     float64\n",
              "noninvasivediastolic    float64\n",
              "noninvasivemean         float64\n",
              "ic9value                 object\n",
              "diagnosispriority        object\n",
              "dtype: object"
            ]
          },
          "metadata": {},
          "execution_count": 57
        }
      ],
      "source": [
        "X_train.dtypes"
      ]
    },
    {
      "cell_type": "markdown",
      "metadata": {
        "id": "BKHsfbIzkct1"
      },
      "source": [
        "Modeling"
      ]
    },
    {
      "cell_type": "code",
      "execution_count": 58,
      "metadata": {
        "id": "iKAvS1iGkct2"
      },
      "outputs": [],
      "source": [
        "# Logistic Regression\n",
        "lr = LogisticRegression(random_state = 42,tol=1**-4,verbose=1) #,solver='lbfgs') #,class_weight='balanced')\n",
        "\n",
        "# Random forests\n",
        "rf = RandomForestClassifier(random_state = 42\n",
        "                            #,n_jobs =-1 # set The number of jobs to run in parallel -1 means using all processors\n",
        "                           )\n",
        "\n",
        "# Neural Network\n",
        "\n",
        "nn = MLPClassifier(random_state = 42,max_iter=500)\n",
        "\n",
        "# SVM\n",
        "\n",
        "svm = SVC(random_state = 42,probability=True) # Whether to enable probability estimates. This must be enabled prior to calling fit, and will slow down that method.\n",
        "\n",
        "# XGB\n",
        "\n",
        "xgb = XGBClassifier(random_state = 42)\n",
        "\n",
        "all_models_list = [lr,\n",
        "                   rf,\n",
        "                   nn,\n",
        "                   #svm,\n",
        "                   xgb]\n",
        "\n",
        "all_models_names = ['lr',\n",
        "                    'rf',\n",
        "                    'nn',\n",
        "                    #'svm',\n",
        "                    'xgb']\n",
        "\n",
        "#all_models_list = [rf]\n",
        "\n",
        "#all_models_names = ['rf']"
      ]
    },
    {
      "cell_type": "markdown",
      "metadata": {
        "id": "a4F1fcwEkct3"
      },
      "source": [
        "## Pipelines\n",
        "These are the parameters we are going to pass to each model in the hyper-parameter tunning."
      ]
    },
    {
      "cell_type": "code",
      "execution_count": 59,
      "metadata": {
        "id": "gpTr3uBnkct4"
      },
      "outputs": [],
      "source": [
        "num_pipe = Pipeline([\n",
        "  ('select_num', get_numeric_data),\n",
        "  ('scale', scaler)\n",
        "  ])\n",
        "\n",
        "cat_pipe = Pipeline([\n",
        "  ('select_cat', get_categorical)\n",
        "  ])\n",
        "\n",
        "# Logistic Regression\n",
        "lr_params =  {'clf__C':[0.0001,0.001,0.01,0.1,1.0]\n",
        "               , 'clf__solver':['newton-cg', 'lbfgs', 'sag', 'saga']\n",
        "               , 'clf__warm_start':[True,False]}   \n",
        "\n",
        "# Random forests      \n",
        "rf_params =  {'clf__n_estimators':  [1000,1500],\n",
        "               'clf__max_features': ['sqrt'],\n",
        "               'clf__max_depth': [2,3,4,5],\n",
        "               'clf__bootstrap': [True, False],\n",
        "               'clf__criterion': [\"gini\"],\n",
        "               'clf__warm_start':[True,False]\n",
        "               #,'clf__oob_score':[True,False]\n",
        "             }\n",
        "\n",
        "# Neural Network    \n",
        "nn_params =  {'clf__hidden_layer_sizes': [(10,10,10), (50,100,50), (100,20)],\n",
        "               'clf__activation': ['tanh', 'relu'],\n",
        "               'clf__solver': ['sgd', 'adam'],\n",
        "               'clf__alpha': [0.0001, 0.05],\n",
        "               'clf__learning_rate': ['constant','adaptive']}\n",
        "\n",
        "# SVM    \n",
        "svm_params =  {'clf__C': [1, 10, 100, 1000],\n",
        "               'clf__gamma': [0.001, 0.0001],\n",
        "               'clf__kernel': ['rbf','linear']} \n",
        "\n",
        "# XGB    \n",
        "xgb_params =  {'clf__max_depth': [1,3,100],\n",
        "               'clf__learning_rate': [0.1],\n",
        "               'clf__n_estimators': [100,500,1000],\n",
        "               'clf__silent': [True],\n",
        "               'clf__objective': ['binary:logistic'],\n",
        "               'clf__booster': ['gbtree'],\n",
        "               'clf__n_jobs': [1],\n",
        "               'clf__nthread': [None],\n",
        "               'clf__gamma': [0],\n",
        "               'clf__min_child_weight': [1],\n",
        "               'clf__max_delta_step': [0],\n",
        "               'clf__subsample': [1],\n",
        "               'clf__colsample_bytree': [1],\n",
        "               'clf__colsample_bylevel': [1],\n",
        "               'clf__reg_alpha': [0,0.0001, 0.05, 0.5],\n",
        "               'clf__reg_lambda': [0,1],\n",
        "               'clf__scale_pos_weight': [1,53.22], # Controls the balance of positive and negative weights, useful for unbalanced classes. A typical value to consider: sumnegative instances / sumpositive instances\n",
        "               'clf__base_score': [0.5],\n",
        "               'clf__random_state': [0],\n",
        "               'clf__seed': [None]} \n",
        "\n",
        "all_params_list = [lr_params,\n",
        "                    rf_params,\n",
        "                    nn_params,\n",
        "                    # svm_params,\n",
        "                    xgb_params\n",
        "                  ]\n",
        "\n",
        "#all_params_list = [rf_params\n",
        "#                  ]"
      ]
    },
    {
      "cell_type": "code",
      "execution_count": 60,
      "metadata": {
        "id": "3JY2Hi_Rkct5",
        "outputId": "c5f0e119-1776-4e46-e4b9-f01059cea693",
        "colab": {
          "base_uri": "https://localhost:8080/"
        }
      },
      "outputs": [
        {
          "output_type": "stream",
          "name": "stdout",
          "text": [
            "<class 'sklearn.linear_model._logistic.LogisticRegression'>\n",
            "Fitting 5 folds for each of 5 candidates, totalling 25 fits\n"
          ]
        },
        {
          "output_type": "stream",
          "name": "stderr",
          "text": [
            "[Parallel(n_jobs=1)]: Using backend SequentialBackend with 1 concurrent workers.\n",
            "[Parallel(n_jobs=1)]: Done   1 out of   1 | elapsed:    0.0s finished\n"
          ]
        },
        {
          "output_type": "stream",
          "name": "stdout",
          "text": [
            "<class 'sklearn.ensemble._forest.RandomForestClassifier'>\n",
            "Fitting 5 folds for each of 5 candidates, totalling 25 fits\n",
            "<class 'sklearn.neural_network._multilayer_perceptron.MLPClassifier'>\n",
            "Fitting 5 folds for each of 5 candidates, totalling 25 fits\n",
            "<class 'xgboost.sklearn.XGBClassifier'>\n",
            "Fitting 5 folds for each of 5 candidates, totalling 25 fits\n"
          ]
        }
      ],
      "source": [
        "bestmodels = [] # we create an empty list to store the best performing version of each model\n",
        "\n",
        "if len(all_models_list) == len(all_params_list):\n",
        "    for i,model in enumerate(all_models_list):\n",
        "        print(type(all_models_list[i]))\n",
        "        full_pipeline = Pipeline([('feat_union',\n",
        "                                   FeatureUnion(transformer_list=[('cat_pipeline', cat_pipe),('num_pipeline', num_pipe) ])),\n",
        "                                  ('clf', model)])\n",
        "    \n",
        "        scoring = make_scorer(roc_auc_score, needs_threshold = True)\n",
        "    \n",
        "        random_search = RandomizedSearchCV(full_pipeline, param_distributions=all_params_list[i], n_iter=5, cv=5, refit = True, scoring=scoring, n_jobs=-1, verbose=10, random_state = 42)\n",
        "    \n",
        "        sys.setrecursionlimit(10000)\n",
        "        random_search.fit(X_train, y_train) \n",
        "    \n",
        "        # Best model in training\n",
        "        bestmodels.append(random_search.best_estimator_)\n",
        "    \n",
        "else:\n",
        "    print('Make sure the amount of models in all_models_list matches the amount of params in all_params_list')"
      ]
    },
    {
      "cell_type": "code",
      "execution_count": 61,
      "metadata": {
        "id": "mLFv3ycEkct6",
        "outputId": "ae483ae7-c55b-42f7-b6d7-179ff4cf2c05",
        "colab": {
          "base_uri": "https://localhost:8080/"
        }
      },
      "outputs": [
        {
          "output_type": "execute_result",
          "data": {
            "text/plain": [
              "[Pipeline(steps=[('feat_union',\n",
              "                  FeatureUnion(transformer_list=[('cat_pipeline',\n",
              "                                                  Pipeline(steps=[('select_cat',\n",
              "                                                                   FunctionTransformer(func=<function <lambda> at 0x7ff106a5d200>))])),\n",
              "                                                 ('num_pipeline',\n",
              "                                                  Pipeline(steps=[('select_num',\n",
              "                                                                   FunctionTransformer(func=<function <lambda> at 0x7ff106a5d710>)),\n",
              "                                                                  ('scale',\n",
              "                                                                   MinMaxScaler())]))])),\n",
              "                 ('clf',\n",
              "                  LogisticRegression(C=0.1, random_state=42, tol=1.0, verbose=1,\n",
              "                                     warm_start=True))]),\n",
              " Pipeline(steps=[('feat_union',\n",
              "                  FeatureUnion(transformer_list=[('cat_pipeline',\n",
              "                                                  Pipeline(steps=[('select_cat',\n",
              "                                                                   FunctionTransformer(func=<function <lambda> at 0x7ff106a5d200>))])),\n",
              "                                                 ('num_pipeline',\n",
              "                                                  Pipeline(steps=[('select_num',\n",
              "                                                                   FunctionTransformer(func=<function <lambda> at 0x7ff106a5d710>)),\n",
              "                                                                  ('scale',\n",
              "                                                                   MinMaxScaler())]))])),\n",
              "                 ('clf',\n",
              "                  RandomForestClassifier(max_depth=5, max_features='sqrt',\n",
              "                                         n_estimators=1500, random_state=42))]),\n",
              " Pipeline(steps=[('feat_union',\n",
              "                  FeatureUnion(transformer_list=[('cat_pipeline',\n",
              "                                                  Pipeline(steps=[('select_cat',\n",
              "                                                                   FunctionTransformer(func=<function <lambda> at 0x7ff106a5d200>))])),\n",
              "                                                 ('num_pipeline',\n",
              "                                                  Pipeline(steps=[('select_num',\n",
              "                                                                   FunctionTransformer(func=<function <lambda> at 0x7ff106a5d710>)),\n",
              "                                                                  ('scale',\n",
              "                                                                   MinMaxScaler())]))])),\n",
              "                 ('clf',\n",
              "                  MLPClassifier(alpha=0.05, hidden_layer_sizes=(50, 100, 50),\n",
              "                                learning_rate='adaptive', max_iter=500,\n",
              "                                random_state=42))]),\n",
              " Pipeline(steps=[('feat_union',\n",
              "                  FeatureUnion(transformer_list=[('cat_pipeline',\n",
              "                                                  Pipeline(steps=[('select_cat',\n",
              "                                                                   FunctionTransformer(func=<function <lambda> at 0x7ff106a5d200>))])),\n",
              "                                                 ('num_pipeline',\n",
              "                                                  Pipeline(steps=[('select_num',\n",
              "                                                                   FunctionTransformer(func=<function <lambda> at 0x7ff106a5d710>)),\n",
              "                                                                  ('scale',\n",
              "                                                                   MinMaxScaler())]))])),\n",
              "                 ('clf',\n",
              "                  XGBClassifier(max_depth=100, n_estimators=500,\n",
              "                                reg_alpha=0.0001, reg_lambda=0,\n",
              "                                scale_pos_weight=53.22, silent=True))])]"
            ]
          },
          "metadata": {},
          "execution_count": 61
        }
      ],
      "source": [
        "bestmodels"
      ]
    },
    {
      "cell_type": "markdown",
      "metadata": {
        "id": "jJUXCvuXkct7"
      },
      "source": [
        "### Defining functions\n",
        "Specificity and Sensitivity"
      ]
    },
    {
      "cell_type": "code",
      "execution_count": 62,
      "metadata": {
        "id": "tBK_wkprkct7"
      },
      "outputs": [],
      "source": [
        "def spec(y_true,y_pred):\n",
        "    TN, FP, FN, TP = confusion_matrix(y_true,y_pred).ravel()\n",
        "    return TN/(TN+FP)   \n",
        "\n",
        "def sens(y_true,y_pred):\n",
        "    TN, FP, FN, TP = confusion_matrix(y_true,y_pred).ravel()\n",
        "    return TP/(TP+FN) "
      ]
    },
    {
      "cell_type": "markdown",
      "metadata": {
        "id": "sQMZnLE1kct8"
      },
      "source": [
        "Optimal AUC threshold"
      ]
    },
    {
      "cell_type": "code",
      "execution_count": 63,
      "metadata": {
        "id": "_wzOVhKtkct-"
      },
      "outputs": [],
      "source": [
        "def optimal_threshold_auc(target, predicted):\n",
        " \n",
        "    fpr, tpr, threshold = roc_curve(target, predicted)\n",
        "    i = np.arange(len(tpr)) \n",
        "    roc = pd.DataFrame({'tf' : pd.Series(tpr-(1-fpr), index=i), 'threshold' : pd.Series(threshold, index=i)})\n",
        "    roc_t = roc.iloc[(roc.tf-0).abs().argsort()[:1]]\n",
        "    return list(roc_t['threshold'])"
      ]
    },
    {
      "cell_type": "markdown",
      "metadata": {
        "id": "9EzvNEldkct_"
      },
      "source": [
        "AUROC"
      ]
    },
    {
      "cell_type": "code",
      "execution_count": 64,
      "metadata": {
        "id": "befZc0d2kct_"
      },
      "outputs": [],
      "source": [
        "def auroc(y, ypred,title):\n",
        "    fig = pyplot.figure(figsize=(8,5))\n",
        "    ax = fig.add_subplot(111)\n",
        "    fpr, tpr, thresholds = roc_curve(y, ypred)\n",
        "    auc_score = roc_auc_score(y, ypred)\n",
        "\n",
        "    pyplot.plot([0, 1], [0, 1], linestyle='--')\n",
        "    pyplot.plot(fpr, tpr, marker='.',color='c')\n",
        "    pyplot.xlabel('False positive rate')\n",
        "    pyplot.ylabel('Recall')\n",
        "    pyplot.ylim([0.0, 1.05])\n",
        "    pyplot.xlim([0.0, 1.0])\n",
        "    pyplot.title(title+' '+'AUROC={0:0.2f}'.format(auc_score)) \n",
        "    for item in ([ax.title, ax.xaxis.label, ax.yaxis.label] +\n",
        "             ax.get_xticklabels() + ax.get_yticklabels()):\n",
        "        item.set_fontsize(20)"
      ]
    },
    {
      "cell_type": "markdown",
      "metadata": {
        "id": "7fe1sC3ekcuA"
      },
      "source": [
        "AUPR"
      ]
    },
    {
      "cell_type": "code",
      "execution_count": 65,
      "metadata": {
        "id": "W5VV2WbQkcuB"
      },
      "outputs": [],
      "source": [
        "def aupr(y, ypred,title):\n",
        "    fig = pyplot.figure(figsize=(8,5))\n",
        "    ax = fig.add_subplot(111)\n",
        "\n",
        "    Baseline = sum(y)/len(y)\n",
        "    average_precision = metrics.average_precision_score(y, ypred)\n",
        "    \n",
        "    precision, recall, _ = precision_recall_curve(y, ypred)\n",
        "    auc = metrics.auc(recall, precision)\n",
        "    step_kwargs = ({'step': 'post'}\n",
        "    if 'step' in signature(pyplot.fill_between).parameters\n",
        "    else {})\n",
        "    pyplot.step(recall, precision, color='c', where='post')\n",
        "    pyplot.fill_between(recall, precision, color='c', **step_kwargs)\n",
        "    pyplot.xlabel('Recall')\n",
        "    pyplot.ylabel('Precision')\n",
        "    pyplot.ylim([0.0, 1.05])\n",
        "    pyplot.xlim([0.0, 1.0])\n",
        "    pyplot.title(title+' '+'AUPRC={0:0.2f}'.format(auc))\n",
        "#    pyplot.plot(Baseline, 'b-',label='Baseline')\n",
        "#    pyplot.legend(bbox_to_anchor=(0.7, 0.9), loc=2, borderaxespad=0., fontsize = 16)\n",
        "    for item in ([ax.title, ax.xaxis.label, ax.yaxis.label] +\n",
        "             ax.get_xticklabels() + ax.get_yticklabels()):\n",
        "        item.set_fontsize(20) \n",
        "        \n",
        "        \n",
        "def metric_aupr(y_true, y_pred):\n",
        "    precision, recall, _ = precision_recall_curve(y_true, y_pred)\n",
        "    auc = metrics.auc(recall, precision)\n",
        "    return auc        "
      ]
    },
    {
      "cell_type": "markdown",
      "metadata": {
        "id": "DU_3zpPrkcuC"
      },
      "source": [
        "Bootstrapping function"
      ]
    },
    {
      "cell_type": "code",
      "execution_count": 66,
      "metadata": {
        "id": "7AKnanAjkcuD"
      },
      "outputs": [],
      "source": [
        "def metric_SMR(y_true, y_pred):\n",
        "   SMR = sum(y_pred)/sum(y_true)\n",
        "   return SMR\n",
        "\n",
        "def get_CI_boot(y_true,y_pred,metric,boot):\n",
        "    # bootstrap confidence intervals\n",
        "    # seed the random number generator\n",
        "    seed(1)\n",
        "    i = 0\n",
        "    # generate dataset\n",
        "    dataset = y_pred\n",
        "    real = y_true\n",
        "    # bootstrap\n",
        "    scores = list()\n",
        "    while i < boot:\n",
        "        # bootstrap sample\n",
        "        indices = randint(0, len(y_pred) - 1, len(y_pred))\n",
        "        sample = dataset[indices]\n",
        "        real = y_true[indices]\n",
        "        if len(np.unique(y_true[indices])) < 2:\n",
        "            # We need at least one positive and one negative sample for ROC AUC\n",
        "            # to be defined: reject the sample\n",
        "            continue\n",
        "    \t# calculate and store statistic \n",
        "        else:\n",
        "            statistic = metric(real,sample)\n",
        "            scores.append(statistic)\n",
        "            i += 1\n",
        "    \n",
        "    # calculate 95% confidence intervals (100 - alpha)\n",
        "    alpha = 5.0\n",
        "    # calculate lower percentile (e.g. 2.5)\n",
        "    lower_p = alpha / 2.0\n",
        "    # retrieve observation at lower percentile\n",
        "    lower = max(0.0, percentile(scores, lower_p))\n",
        "    # calculate upper percentile (e.g. 97.5)\n",
        "    upper_p = (100 - alpha) + (alpha / 2.0)\n",
        "    # retrieve observation at upper percentile\n",
        "    if metric == metric_SMR:\n",
        "        upper = percentile(scores, upper_p)\n",
        "    else:\n",
        "        upper = min(1.0, percentile(scores, upper_p))\n",
        "    delta = upper-lower\n",
        "    mediana = median(scores)\n",
        "    return mediana,(lower,upper),delta"
      ]
    },
    {
      "cell_type": "markdown",
      "metadata": {
        "id": "SlskOdxhkcuE"
      },
      "source": [
        "### Predictions in train and test\n",
        "Insights, AUPR and AUROC curves"
      ]
    },
    {
      "cell_type": "code",
      "execution_count": 67,
      "metadata": {
        "id": "sepI7myJkcuE",
        "outputId": "e5933c96-8711-4756-e214-506c59416d2d",
        "colab": {
          "base_uri": "https://localhost:8080/",
          "height": 1000
        }
      },
      "outputs": [
        {
          "output_type": "stream",
          "name": "stdout",
          "text": [
            "lr\n"
          ]
        },
        {
          "output_type": "stream",
          "name": "stderr",
          "text": [
            "/usr/local/lib/python3.7/dist-packages/ipykernel_launcher.py:43: DeprecationWarning: `np.int` is a deprecated alias for the builtin `int`. To silence this warning, use `int` by itself. Doing this will not modify any behavior and is safe. When replacing `np.int`, you may wish to use e.g. `np.int64` or `np.int32` to specify the precision. If you wish to review your current use, check the release note link for additional information.\n",
            "Deprecated in NumPy 1.20; for more details and guidance: https://numpy.org/devdocs/release/1.20.0-notes.html#deprecations\n",
            "/usr/local/lib/python3.7/dist-packages/ipykernel_launcher.py:43: DeprecationWarning: `np.int` is a deprecated alias for the builtin `int`. To silence this warning, use `int` by itself. Doing this will not modify any behavior and is safe. When replacing `np.int`, you may wish to use e.g. `np.int64` or `np.int32` to specify the precision. If you wish to review your current use, check the release note link for additional information.\n",
            "Deprecated in NumPy 1.20; for more details and guidance: https://numpy.org/devdocs/release/1.20.0-notes.html#deprecations\n",
            "/usr/local/lib/python3.7/dist-packages/ipykernel_launcher.py:43: DeprecationWarning: `np.int` is a deprecated alias for the builtin `int`. To silence this warning, use `int` by itself. Doing this will not modify any behavior and is safe. When replacing `np.int`, you may wish to use e.g. `np.int64` or `np.int32` to specify the precision. If you wish to review your current use, check the release note link for additional information.\n",
            "Deprecated in NumPy 1.20; for more details and guidance: https://numpy.org/devdocs/release/1.20.0-notes.html#deprecations\n"
          ]
        },
        {
          "output_type": "stream",
          "name": "stdout",
          "text": [
            "[roc_auc_score 0.68 CI [0.65-0.72], precision_score 0.92 CI [0.9-0.94], spec 0.67 CI [0.63-0.75], sens 0.65 CI [0.63-0.68]]\n",
            "rf\n"
          ]
        },
        {
          "output_type": "stream",
          "name": "stderr",
          "text": [
            "/usr/local/lib/python3.7/dist-packages/ipykernel_launcher.py:43: DeprecationWarning: `np.int` is a deprecated alias for the builtin `int`. To silence this warning, use `int` by itself. Doing this will not modify any behavior and is safe. When replacing `np.int`, you may wish to use e.g. `np.int64` or `np.int32` to specify the precision. If you wish to review your current use, check the release note link for additional information.\n",
            "Deprecated in NumPy 1.20; for more details and guidance: https://numpy.org/devdocs/release/1.20.0-notes.html#deprecations\n",
            "/usr/local/lib/python3.7/dist-packages/ipykernel_launcher.py:43: DeprecationWarning: `np.int` is a deprecated alias for the builtin `int`. To silence this warning, use `int` by itself. Doing this will not modify any behavior and is safe. When replacing `np.int`, you may wish to use e.g. `np.int64` or `np.int32` to specify the precision. If you wish to review your current use, check the release note link for additional information.\n",
            "Deprecated in NumPy 1.20; for more details and guidance: https://numpy.org/devdocs/release/1.20.0-notes.html#deprecations\n",
            "/usr/local/lib/python3.7/dist-packages/ipykernel_launcher.py:43: DeprecationWarning: `np.int` is a deprecated alias for the builtin `int`. To silence this warning, use `int` by itself. Doing this will not modify any behavior and is safe. When replacing `np.int`, you may wish to use e.g. `np.int64` or `np.int32` to specify the precision. If you wish to review your current use, check the release note link for additional information.\n",
            "Deprecated in NumPy 1.20; for more details and guidance: https://numpy.org/devdocs/release/1.20.0-notes.html#deprecations\n"
          ]
        },
        {
          "output_type": "stream",
          "name": "stdout",
          "text": [
            "[roc_auc_score 0.88 CI [0.85-0.91], precision_score 0.96 CI [0.95-0.97], spec 0.82 CI [0.77-0.87], sens 0.85 CI [0.83-0.87]]\n",
            "nn\n"
          ]
        },
        {
          "output_type": "stream",
          "name": "stderr",
          "text": [
            "/usr/local/lib/python3.7/dist-packages/ipykernel_launcher.py:43: DeprecationWarning: `np.int` is a deprecated alias for the builtin `int`. To silence this warning, use `int` by itself. Doing this will not modify any behavior and is safe. When replacing `np.int`, you may wish to use e.g. `np.int64` or `np.int32` to specify the precision. If you wish to review your current use, check the release note link for additional information.\n",
            "Deprecated in NumPy 1.20; for more details and guidance: https://numpy.org/devdocs/release/1.20.0-notes.html#deprecations\n",
            "/usr/local/lib/python3.7/dist-packages/ipykernel_launcher.py:43: DeprecationWarning: `np.int` is a deprecated alias for the builtin `int`. To silence this warning, use `int` by itself. Doing this will not modify any behavior and is safe. When replacing `np.int`, you may wish to use e.g. `np.int64` or `np.int32` to specify the precision. If you wish to review your current use, check the release note link for additional information.\n",
            "Deprecated in NumPy 1.20; for more details and guidance: https://numpy.org/devdocs/release/1.20.0-notes.html#deprecations\n",
            "/usr/local/lib/python3.7/dist-packages/ipykernel_launcher.py:43: DeprecationWarning: `np.int` is a deprecated alias for the builtin `int`. To silence this warning, use `int` by itself. Doing this will not modify any behavior and is safe. When replacing `np.int`, you may wish to use e.g. `np.int64` or `np.int32` to specify the precision. If you wish to review your current use, check the release note link for additional information.\n",
            "Deprecated in NumPy 1.20; for more details and guidance: https://numpy.org/devdocs/release/1.20.0-notes.html#deprecations\n"
          ]
        },
        {
          "output_type": "stream",
          "name": "stdout",
          "text": [
            "[roc_auc_score 0.87 CI [0.84-0.9], precision_score 0.96 CI [0.95-0.98], spec 0.81 CI [0.76-0.87], sens 0.83 CI [0.81-0.85]]\n",
            "xgb\n"
          ]
        },
        {
          "output_type": "stream",
          "name": "stderr",
          "text": [
            "/usr/local/lib/python3.7/dist-packages/ipykernel_launcher.py:43: DeprecationWarning: `np.int` is a deprecated alias for the builtin `int`. To silence this warning, use `int` by itself. Doing this will not modify any behavior and is safe. When replacing `np.int`, you may wish to use e.g. `np.int64` or `np.int32` to specify the precision. If you wish to review your current use, check the release note link for additional information.\n",
            "Deprecated in NumPy 1.20; for more details and guidance: https://numpy.org/devdocs/release/1.20.0-notes.html#deprecations\n",
            "/usr/local/lib/python3.7/dist-packages/ipykernel_launcher.py:43: DeprecationWarning: `np.int` is a deprecated alias for the builtin `int`. To silence this warning, use `int` by itself. Doing this will not modify any behavior and is safe. When replacing `np.int`, you may wish to use e.g. `np.int64` or `np.int32` to specify the precision. If you wish to review your current use, check the release note link for additional information.\n",
            "Deprecated in NumPy 1.20; for more details and guidance: https://numpy.org/devdocs/release/1.20.0-notes.html#deprecations\n",
            "/usr/local/lib/python3.7/dist-packages/ipykernel_launcher.py:43: DeprecationWarning: `np.int` is a deprecated alias for the builtin `int`. To silence this warning, use `int` by itself. Doing this will not modify any behavior and is safe. When replacing `np.int`, you may wish to use e.g. `np.int64` or `np.int32` to specify the precision. If you wish to review your current use, check the release note link for additional information.\n",
            "Deprecated in NumPy 1.20; for more details and guidance: https://numpy.org/devdocs/release/1.20.0-notes.html#deprecations\n"
          ]
        },
        {
          "output_type": "stream",
          "name": "stdout",
          "text": [
            "[roc_auc_score 0.92 CI [0.9-0.94], precision_score 0.96 CI [0.95-0.97], spec 0.81 CI [0.76-0.87], sens 0.87 CI [0.85-0.89]]\n"
          ]
        },
        {
          "output_type": "display_data",
          "data": {
            "text/plain": [
              "<Figure size 576x360 with 1 Axes>"
            ],
            "image/png": "[encoded data removed]"
          },
          "metadata": {
            "needs_background": "light"
          }
        },
        {
          "output_type": "display_data",
          "data": {
            "text/plain": [
              "<Figure size 576x360 with 1 Axes>"
            ],
            "image/png": "[encoded data removed]"
          },
          "metadata": {
            "needs_background": "light"
          }
        },
        {
          "output_type": "display_data",
          "data": {
            "text/plain": [
              "<Figure size 576x360 with 1 Axes>"
            ],
            "image/png": "[encoded data removed]"
          },
          "metadata": {
            "needs_background": "light"
          }
        },
        {
          "output_type": "display_data",
          "data": {
            "text/plain": [
              "<Figure size 576x360 with 1 Axes>"
            ],
            "image/png": "[encoded data removed]"
          },
          "metadata": {
            "needs_background": "light"
          }
        },
        {
          "output_type": "display_data",
          "data": {
            "text/plain": [
              "<Figure size 576x360 with 1 Axes>"
            ],
            "image/png": "[encoded data removed]"
          },
          "metadata": {
            "needs_background": "light"
          }
        },
        {
          "output_type": "display_data",
          "data": {
            "text/plain": [
              "<Figure size 576x360 with 1 Axes>"
            ],
            "image/png": "[encoded data removed]"
          },
          "metadata": {
            "needs_background": "light"
          }
        },
        {
          "output_type": "display_data",
          "data": {
            "text/plain": [
              "<Figure size 576x360 with 1 Axes>"
            ],
            "image/png": "[encoded data removed]"
          },
          "metadata": {
            "needs_background": "light"
          }
        },
        {
          "output_type": "display_data",
          "data": {
            "text/plain": [
              "<Figure size 576x360 with 1 Axes>"
            ],
            "image/png": "[encoded data removed]"
          },
          "metadata": {
            "needs_background": "light"
          }
        }
      ],
      "source": [
        "for i,model in enumerate(bestmodels):\n",
        "    modelname = all_models_names[i]\n",
        "    print(modelname)\n",
        "    y_train_pred = model.predict_proba(X_train)[:,1]\n",
        "    y_test_pred = model.predict_proba(X_test)[:,1]\n",
        "    auroc(y_test, y_test_pred,all_models_names[i])\n",
        "    aupr(y_test, y_test_pred,all_models_names[i])\n",
        "    # Threshold in train\n",
        "    threshold = optimal_threshold_auc(y_train, y_train_pred)\n",
        "    \n",
        "   # performance_all = [roc_auc_score,average_precision_score, accuracy_score, spec, \n",
        "   #                sens, precision_score, f1_score, cohen_kappa_score,metric_SMR,metric_aupr] \n",
        "   # \n",
        "   # performance_names_all = np.array(['roc_auc_score','average_precision_score'\n",
        "   #                               ,' accuracy_score',' spec','sens',' precision_score'\n",
        "   #                               ,' f1_score',' cohen_kappa_score','metric_SMR','metric_aupr'])\n",
        "   # \n",
        "    performance = [roc_auc_score,precision_score, spec, sens] \n",
        "    \n",
        "    performance_names = np.array(['roc_auc_score','precision_score','spec','sens'])\n",
        "    \n",
        "    \n",
        "    conf = []\n",
        "    delt = []\n",
        "    met = []\n",
        "    med = []\n",
        "    te = []\n",
        "    performance_insights = []\n",
        "    \n",
        "    y_test = np.array(y_test)\n",
        "    \n",
        "    for i,p in enumerate(performance):\n",
        "        \n",
        "        if (p == roc_auc_score or p == average_precision_score or p == metric_aupr):\n",
        "            mediana,extremes,delta = get_CI_boot(y_test,y_test_pred,p,boot=100) #atencao aqui ao boot\n",
        "            met.append(p)\n",
        "            conf.append(extremes)\n",
        "            delt.append(delta)\n",
        "            med.append(mediana)\n",
        "            te.append(p(y_test,y_test_pred)) \n",
        "            performance_insights.append(performance_names[i]+' '+str(round(p(y_test,y_test_pred), 2)) +' CI ['+ str(round(extremes[0], 2))  +'-'+  str(round(extremes[1], 2)) +']')\n",
        "        else:\n",
        "            y_pred_threshold = (y_test_pred >= threshold).astype(np.int)\n",
        "            mediana,extremes,delta = get_CI_boot(y_test,y_pred_threshold,p,boot=100)\n",
        "            met.append(p)\n",
        "            conf.append(extremes)\n",
        "            delt.append(delta)\n",
        "            med.append(mediana)\n",
        "            te.append(p(y_test,y_pred_threshold)) \n",
        "            performance_insights.append(performance_names[i]+' '+str(round(p(y_test,y_pred_threshold), 2)) +' CI ['+ str(round(extremes[0], 2))  +'-'+  str(round(extremes[1], 2)) +']')\n",
        "            \n",
        "    \n",
        "    performance_insights =  str(performance_insights)\n",
        "    performance_insights = performance_insights.replace(\"'\", \"\")\n",
        "    print(performance_insights)  "
      ]
    },
    {
      "cell_type": "markdown",
      "metadata": {
        "id": "8rVQx4ofkcuF"
      },
      "source": [
        "Save results"
      ]
    },
    {
      "cell_type": "code",
      "execution_count": 68,
      "metadata": {
        "id": "UunMveLZkcuF",
        "outputId": "4b743ec6-ceb0-46f8-daee-52d9723b3d94",
        "colab": {
          "base_uri": "https://localhost:8080/"
        }
      },
      "outputs": [
        {
          "output_type": "stream",
          "name": "stdout",
          "text": [
            "model saved\n",
            "model saved\n"
          ]
        }
      ],
      "source": [
        "\n",
        "db_name = 'OR'\n",
        "\n",
        "\n",
        "# XGB\n",
        "model_name = 'XGB'\n",
        "\n",
        "features_name = 'full'\n",
        "\n",
        "\n",
        "# Best model\n",
        "filename = '{}_{}_{}_model.sav'.format(model_name,features_name,db_name)\n",
        "\n",
        "with open(filename, 'wb') as pickle_file:\n",
        "    dill.dump(random_search.best_estimator_, pickle_file)\n",
        "    print('model saved')\n",
        "    \n",
        "# CV model\n",
        "filename = '{}_{}_{}model_CV.sav'.format(model_name,features_name,db_name)\n",
        "\n",
        "with open(filename, 'wb') as pickle_file:\n",
        "    dill.dump(random_search, pickle_file)\n",
        "    print('model saved') "
      ]
    },
    {
      "cell_type": "markdown",
      "metadata": {
        "id": "zxTTgpikkcuG"
      },
      "source": [
        "### Explanability of the model"
      ]
    },
    {
      "cell_type": "code",
      "execution_count": 69,
      "metadata": {
        "id": "ythWZlcRkcuG",
        "outputId": "6cc49f66-ce0f-4719-a5d5-d40322294f2c",
        "colab": {
          "base_uri": "https://localhost:8080/"
        }
      },
      "outputs": [
        {
          "output_type": "stream",
          "name": "stdout",
          "text": [
            "[-0.05222116  0.02734358  0.0077588   0.00187654  0.08634456  0.01121903\n",
            "  0.03722853 -0.05067144  0.00897415 -0.4588327 ]\n"
          ]
        },
        {
          "output_type": "stream",
          "name": "stderr",
          "text": [
            "[Parallel(n_jobs=1)]: Using backend SequentialBackend with 1 concurrent workers.\n",
            "/usr/local/lib/python3.7/dist-packages/sklearn/linear_model/_logistic.py:818: ConvergenceWarning: lbfgs failed to converge (status=1):\n",
            "STOP: TOTAL NO. of ITERATIONS REACHED LIMIT.\n",
            "\n",
            "Increase the number of iterations (max_iter) or scale the data as shown in:\n",
            "    https://scikit-learn.org/stable/modules/preprocessing.html\n",
            "Please also refer to the documentation for alternative solver options:\n",
            "    https://scikit-learn.org/stable/modules/linear_model.html#logistic-regression\n",
            "  extra_warning_msg=_LOGISTIC_SOLVER_CONVERGENCE_MSG,\n",
            "[Parallel(n_jobs=1)]: Done   1 out of   1 | elapsed:    0.1s finished\n"
          ]
        }
      ],
      "source": [
        "model= LogisticRegression(C=0.1, random_state=42, tol=1.0, verbose=1,\n",
        "                                     warm_start=True)\n",
        "model.fit(X_train, y_train)\n",
        "\n",
        "print(model.coef_[0])\n"
      ]
    },
    {
      "cell_type": "code",
      "execution_count": 70,
      "metadata": {
        "id": "JfmDL0OvkcuH",
        "outputId": "ca6e76ed-56c7-4ff3-d019-bb67aec0f059",
        "colab": {
          "base_uri": "https://localhost:8080/"
        }
      },
      "outputs": [
        {
          "output_type": "stream",
          "name": "stdout",
          "text": [
            "[0.01037666]\n"
          ]
        }
      ],
      "source": [
        "print(model.intercept_)"
      ]
    },
    {
      "cell_type": "code",
      "execution_count": 71,
      "metadata": {
        "id": "zEyE32YNkcuH",
        "outputId": "3e69cee0-7586-4671-fe95-0d58ba0f64c2",
        "colab": {
          "base_uri": "https://localhost:8080/",
          "height": 363
        }
      },
      "outputs": [
        {
          "output_type": "execute_result",
          "data": {
            "text/plain": [
              "                         Coeff\n",
              "gender               -0.052221\n",
              "age                   0.027344\n",
              "admissionweight       0.007759\n",
              "admissionheight       0.001877\n",
              "ethnicity             0.086345\n",
              "noninvasivesystolic   0.011219\n",
              "noninvasivediastolic  0.037229\n",
              "noninvasivemean      -0.050671\n",
              "ic9value              0.008974\n",
              "diagnosispriority    -0.458833"
            ],
            "text/html": [
              "\n",
              "  <div id=\"df-686d57f5-4f09-4c38-a8d9-ced8bce4453b\">\n",
              "    <div class=\"colab-df-container\">\n",
              "      <div>\n",
              "<style scoped>\n",
              "    .dataframe tbody tr th:only-of-type {\n",
              "        vertical-align: middle;\n",
              "    }\n",
              "\n",
              "    .dataframe tbody tr th {\n",
              "        vertical-align: top;\n",
              "    }\n",
              "\n",
              "    .dataframe thead th {\n",
              "        text-align: right;\n",
              "    }\n",
              "</style>\n",
              "<table border=\"1\" class=\"dataframe\">\n",
              "  <thead>\n",
              "    <tr style=\"text-align: right;\">\n",
              "      <th></th>\n",
              "      <th>Coeff</th>\n",
              "    </tr>\n",
              "  </thead>\n",
              "  <tbody>\n",
              "    <tr>\n",
              "      <th>gender</th>\n",
              "      <td>-0.052221</td>\n",
              "    </tr>\n",
              "    <tr>\n",
              "      <th>age</th>\n",
              "      <td>0.027344</td>\n",
              "    </tr>\n",
              "    <tr>\n",
              "      <th>admissionweight</th>\n",
              "      <td>0.007759</td>\n",
              "    </tr>\n",
              "    <tr>\n",
              "      <th>admissionheight</th>\n",
              "      <td>0.001877</td>\n",
              "    </tr>\n",
              "    <tr>\n",
              "      <th>ethnicity</th>\n",
              "      <td>0.086345</td>\n",
              "    </tr>\n",
              "    <tr>\n",
              "      <th>noninvasivesystolic</th>\n",
              "      <td>0.011219</td>\n",
              "    </tr>\n",
              "    <tr>\n",
              "      <th>noninvasivediastolic</th>\n",
              "      <td>0.037229</td>\n",
              "    </tr>\n",
              "    <tr>\n",
              "      <th>noninvasivemean</th>\n",
              "      <td>-0.050671</td>\n",
              "    </tr>\n",
              "    <tr>\n",
              "      <th>ic9value</th>\n",
              "      <td>0.008974</td>\n",
              "    </tr>\n",
              "    <tr>\n",
              "      <th>diagnosispriority</th>\n",
              "      <td>-0.458833</td>\n",
              "    </tr>\n",
              "  </tbody>\n",
              "</table>\n",
              "</div>\n",
              "      <button class=\"colab-df-convert\" onclick=\"convertToInteractive('df-686d57f5-4f09-4c38-a8d9-ced8bce4453b')\"\n",
              "              title=\"Convert this dataframe to an interactive table.\"\n",
              "              style=\"display:none;\">\n",
              "        \n",
              "  <svg xmlns=\"http://www.w3.org/2000/svg\" height=\"24px\"viewBox=\"0 0 24 24\"\n",
              "       width=\"24px\">\n",
              "    <path d=\"M0 0h24v24H0V0z\" fill=\"none\"/>\n",
              "    <path d=\"M18.56 5.44l.94 2.06.94-2.06 2.06-.94-2.06-.94-.94-2.06-.94 2.06-2.06.94zm-11 1L8.5 8.5l.94-2.06 2.06-.94-2.06-.94L8.5 2.5l-.94 2.06-2.06.94zm10 10l.94 2.06.94-2.06 2.06-.94-2.06-.94-.94-2.06-.94 2.06-2.06.94z\"/><path d=\"M17.41 7.96l-1.37-1.37c-.4-.4-.92-.59-1.43-.59-.52 0-1.04.2-1.43.59L10.3 9.45l-7.72 7.72c-.78.78-.78 2.05 0 2.83L4 21.41c.39.39.9.59 1.41.59.51 0 1.02-.2 1.41-.59l7.78-7.78 2.81-2.81c.8-.78.8-2.07 0-2.86zM5.41 20L4 18.59l7.72-7.72 1.47 1.35L5.41 20z\"/>\n",
              "  </svg>\n",
              "      </button>\n",
              "      \n",
              "  <style>\n",
              "    .colab-df-container {\n",
              "      display:flex;\n",
              "      flex-wrap:wrap;\n",
              "      gap: 12px;\n",
              "    }\n",
              "\n",
              "    .colab-df-convert {\n",
              "      background-color: #E8F0FE;\n",
              "      border: none;\n",
              "      border-radius: 50%;\n",
              "      cursor: pointer;\n",
              "      display: none;\n",
              "      fill: #1967D2;\n",
              "      height: 32px;\n",
              "      padding: 0 0 0 0;\n",
              "      width: 32px;\n",
              "    }\n",
              "\n",
              "    .colab-df-convert:hover {\n",
              "      background-color: #E2EBFA;\n",
              "      box-shadow: 0px 1px 2px rgba(60, 64, 67, 0.3), 0px 1px 3px 1px rgba(60, 64, 67, 0.15);\n",
              "      fill: #174EA6;\n",
              "    }\n",
              "\n",
              "    [theme=dark] .colab-df-convert {\n",
              "      background-color: #3B4455;\n",
              "      fill: #D2E3FC;\n",
              "    }\n",
              "\n",
              "    [theme=dark] .colab-df-convert:hover {\n",
              "      background-color: #434B5C;\n",
              "      box-shadow: 0px 1px 3px 1px rgba(0, 0, 0, 0.15);\n",
              "      filter: drop-shadow(0px 1px 2px rgba(0, 0, 0, 0.3));\n",
              "      fill: #FFFFFF;\n",
              "    }\n",
              "  </style>\n",
              "\n",
              "      <script>\n",
              "        const buttonEl =\n",
              "          document.querySelector('#df-686d57f5-4f09-4c38-a8d9-ced8bce4453b button.colab-df-convert');\n",
              "        buttonEl.style.display =\n",
              "          google.colab.kernel.accessAllowed ? 'block' : 'none';\n",
              "\n",
              "        async function convertToInteractive(key) {\n",
              "          const element = document.querySelector('#df-686d57f5-4f09-4c38-a8d9-ced8bce4453b');\n",
              "          const dataTable =\n",
              "            await google.colab.kernel.invokeFunction('convertToInteractive',\n",
              "                                                     [key], {});\n",
              "          if (!dataTable) return;\n",
              "\n",
              "          const docLinkHtml = 'Like what you see? Visit the ' +\n",
              "            '<a target=\"_blank\" href=https://colab.research.google.com/notebooks/data_table.ipynb>data table notebook</a>'\n",
              "            + ' to learn more about interactive tables.';\n",
              "          element.innerHTML = '';\n",
              "          dataTable['output_type'] = 'display_data';\n",
              "          await google.colab.output.renderOutput(dataTable, element);\n",
              "          const docLink = document.createElement('div');\n",
              "          docLink.innerHTML = docLinkHtml;\n",
              "          element.appendChild(docLink);\n",
              "        }\n",
              "      </script>\n",
              "    </div>\n",
              "  </div>\n",
              "  "
            ]
          },
          "metadata": {},
          "execution_count": 71
        }
      ],
      "source": [
        "pd.DataFrame(model.coef_[0], X_train.columns, columns = ['Coeff'])"
      ]
    }
  ],
  "metadata": {
    "kernelspec": {
      "display_name": "Python 3.7.6 64-bit",
      "language": "python",
      "name": "python3"
    },
    "language_info": {
      "codemirror_mode": {
        "name": "ipython",
        "version": 3
      },
      "file_extension": ".py",
      "mimetype": "text/x-python",
      "name": "python",
      "nbconvert_exporter": "python",
      "pygments_lexer": "ipython3",
      "version": "3.7.6"
    },
    "orig_nbformat": 4,
    "vscode": {
      "interpreter": {
        "hash": "52634da84371cba311ea128a5ea7cdc41ff074b781779e754b270ff9f8153cee"
      }
    },
    "colab": {
      "name": "model_extend.ipynb",
      "provenance": []
    },
    "accelerator": "TPU",
    "gpuClass": "standard"
  },
  "nbformat": 4,
  "nbformat_minor": 0
}