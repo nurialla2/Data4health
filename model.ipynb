{
 "cells": [
  {
   "cell_type": "code",
   "execution_count": 1,
   "metadata": {},
   "outputs": [],
   "source": [
    "import numpy as np  \n",
    "import pandas as pd\n",
    "from numpy import median, percentile\n",
    "from numpy.random import seed, randint\n",
    "from sklearn.model_selection import train_test_split\n",
    "from sklearn import metrics\n",
    "#from scipy.integrate import cumtrapz\n",
    "from sklearn.metrics import (roc_auc_score, cohen_kappa_score,confusion_matrix, precision_score,\n",
    "                             accuracy_score, average_precision_score, f1_score,\n",
    "                             precision_recall_curve, roc_curve) #, auc, recall_score)\n",
    "import matplotlib.pyplot as pyplot\n",
    "import matplotlib.pyplot as plt              \n",
    "from inspect import signature\n",
    "import joblib\n",
    "from sklearn.calibration import (CalibratedClassifierCV, \n",
    "                                 _CalibratedClassifier, calibration_curve)  \n",
    "from sklearn.pipeline import Pipeline, FeatureUnion\n",
    "from sklearn.model_selection import RandomizedSearchCV\n",
    "from sklearn.preprocessing import FunctionTransformer, MinMaxScaler\n",
    "from sklearn.linear_model import LogisticRegression\n",
    "from sklearn.svm import SVC\n",
    "from sklearn.ensemble import RandomForestClassifier\n",
    "from sklearn.neural_network import MLPClassifier\n",
    "from sklearn.metrics import (make_scorer, roc_auc_score) #, cohen_kappa_score,confusion_matrix, precision_score,\n",
    "#                             accuracy_score, auc, average_precision_score, f1_score,\n",
    "#                             precision_recall_curve, recall_score, roc_curve)          \n",
    "import dill\n",
    "import sys\n",
    "from xgboost import XGBClassifier"
   ]
  },
  {
   "cell_type": "code",
   "execution_count": 2,
   "metadata": {},
   "outputs": [],
   "source": [
    "df = pd.read_csv(\"./data/patientData.csv\", delimiter=\",\")"
   ]
  },
  {
   "cell_type": "code",
   "execution_count": 3,
   "metadata": {},
   "outputs": [
    {
     "data": {
      "text/html": [
       "<div>\n",
       "<style scoped>\n",
       "    .dataframe tbody tr th:only-of-type {\n",
       "        vertical-align: middle;\n",
       "    }\n",
       "\n",
       "    .dataframe tbody tr th {\n",
       "        vertical-align: top;\n",
       "    }\n",
       "\n",
       "    .dataframe thead th {\n",
       "        text-align: right;\n",
       "    }\n",
       "</style>\n",
       "<table border=\"1\" class=\"dataframe\">\n",
       "  <thead>\n",
       "    <tr style=\"text-align: right;\">\n",
       "      <th></th>\n",
       "      <th>patientunitstayid</th>\n",
       "      <th>gender</th>\n",
       "      <th>age</th>\n",
       "      <th>admissionweight</th>\n",
       "      <th>admissionheight</th>\n",
       "      <th>ethnicity</th>\n",
       "      <th>vitalaperiodicid</th>\n",
       "      <th>observationoffset</th>\n",
       "      <th>noninvasivesystolic</th>\n",
       "      <th>noninvasivediastolic</th>\n",
       "      <th>noninvasivemean</th>\n",
       "      <th>cardioDiagnosis</th>\n",
       "      <th>treated</th>\n",
       "    </tr>\n",
       "  </thead>\n",
       "  <tbody>\n",
       "    <tr>\n",
       "      <th>0</th>\n",
       "      <td>242895</td>\n",
       "      <td>Male</td>\n",
       "      <td>80</td>\n",
       "      <td>101.2</td>\n",
       "      <td>170.18</td>\n",
       "      <td>Caucasian</td>\n",
       "      <td>15957733.0</td>\n",
       "      <td>1102.800000</td>\n",
       "      <td>136.371429</td>\n",
       "      <td>73.028571</td>\n",
       "      <td>87.857143</td>\n",
       "      <td>True</td>\n",
       "      <td>True</td>\n",
       "    </tr>\n",
       "    <tr>\n",
       "      <th>1</th>\n",
       "      <td>243097</td>\n",
       "      <td>Male</td>\n",
       "      <td>49</td>\n",
       "      <td>127.0</td>\n",
       "      <td>185.40</td>\n",
       "      <td>Caucasian</td>\n",
       "      <td>17382422.5</td>\n",
       "      <td>1191.789474</td>\n",
       "      <td>128.947368</td>\n",
       "      <td>77.815789</td>\n",
       "      <td>88.815789</td>\n",
       "      <td>True</td>\n",
       "      <td>True</td>\n",
       "    </tr>\n",
       "    <tr>\n",
       "      <th>2</th>\n",
       "      <td>243999</td>\n",
       "      <td>Female</td>\n",
       "      <td>70</td>\n",
       "      <td>98.4</td>\n",
       "      <td>157.50</td>\n",
       "      <td>Caucasian</td>\n",
       "      <td>11676875.0</td>\n",
       "      <td>806.041096</td>\n",
       "      <td>101.589041</td>\n",
       "      <td>55.520548</td>\n",
       "      <td>65.945205</td>\n",
       "      <td>True</td>\n",
       "      <td>True</td>\n",
       "    </tr>\n",
       "    <tr>\n",
       "      <th>3</th>\n",
       "      <td>244477</td>\n",
       "      <td>Female</td>\n",
       "      <td>55</td>\n",
       "      <td>113.7</td>\n",
       "      <td>165.10</td>\n",
       "      <td>Caucasian</td>\n",
       "      <td>16120409.0</td>\n",
       "      <td>197.000000</td>\n",
       "      <td>112.142857</td>\n",
       "      <td>60.285714</td>\n",
       "      <td>72.285714</td>\n",
       "      <td>False</td>\n",
       "      <td>True</td>\n",
       "    </tr>\n",
       "    <tr>\n",
       "      <th>4</th>\n",
       "      <td>246997</td>\n",
       "      <td>Male</td>\n",
       "      <td>62</td>\n",
       "      <td>50.1</td>\n",
       "      <td>172.70</td>\n",
       "      <td>Caucasian</td>\n",
       "      <td>18137589.0</td>\n",
       "      <td>733.131148</td>\n",
       "      <td>96.245902</td>\n",
       "      <td>66.819672</td>\n",
       "      <td>79.147541</td>\n",
       "      <td>False</td>\n",
       "      <td>True</td>\n",
       "    </tr>\n",
       "    <tr>\n",
       "      <th>...</th>\n",
       "      <td>...</td>\n",
       "      <td>...</td>\n",
       "      <td>...</td>\n",
       "      <td>...</td>\n",
       "      <td>...</td>\n",
       "      <td>...</td>\n",
       "      <td>...</td>\n",
       "      <td>...</td>\n",
       "      <td>...</td>\n",
       "      <td>...</td>\n",
       "      <td>...</td>\n",
       "      <td>...</td>\n",
       "      <td>...</td>\n",
       "    </tr>\n",
       "    <tr>\n",
       "      <th>1749</th>\n",
       "      <td>3351763</td>\n",
       "      <td>Female</td>\n",
       "      <td>62</td>\n",
       "      <td>134.5</td>\n",
       "      <td>165.10</td>\n",
       "      <td>Caucasian</td>\n",
       "      <td>443446038.5</td>\n",
       "      <td>2876.161765</td>\n",
       "      <td>135.985294</td>\n",
       "      <td>63.323529</td>\n",
       "      <td>89.279412</td>\n",
       "      <td>False</td>\n",
       "      <td>True</td>\n",
       "    </tr>\n",
       "    <tr>\n",
       "      <th>1750</th>\n",
       "      <td>3352230</td>\n",
       "      <td>Male</td>\n",
       "      <td>41</td>\n",
       "      <td>127.0</td>\n",
       "      <td>177.80</td>\n",
       "      <td>African American</td>\n",
       "      <td>443136851.0</td>\n",
       "      <td>2360.507246</td>\n",
       "      <td>117.101449</td>\n",
       "      <td>65.260870</td>\n",
       "      <td>84.304348</td>\n",
       "      <td>True</td>\n",
       "      <td>True</td>\n",
       "    </tr>\n",
       "    <tr>\n",
       "      <th>1751</th>\n",
       "      <td>3352231</td>\n",
       "      <td>Male</td>\n",
       "      <td>41</td>\n",
       "      <td>127.0</td>\n",
       "      <td>177.80</td>\n",
       "      <td>African American</td>\n",
       "      <td>445040552.0</td>\n",
       "      <td>655.600000</td>\n",
       "      <td>128.000000</td>\n",
       "      <td>71.800000</td>\n",
       "      <td>91.800000</td>\n",
       "      <td>True</td>\n",
       "      <td>True</td>\n",
       "    </tr>\n",
       "    <tr>\n",
       "      <th>1752</th>\n",
       "      <td>3352333</td>\n",
       "      <td>Male</td>\n",
       "      <td>72</td>\n",
       "      <td>68.3</td>\n",
       "      <td>177.80</td>\n",
       "      <td>Caucasian</td>\n",
       "      <td>442861118.5</td>\n",
       "      <td>1505.014286</td>\n",
       "      <td>146.600000</td>\n",
       "      <td>81.628571</td>\n",
       "      <td>106.228571</td>\n",
       "      <td>False</td>\n",
       "      <td>False</td>\n",
       "    </tr>\n",
       "    <tr>\n",
       "      <th>1753</th>\n",
       "      <td>3353113</td>\n",
       "      <td>Male</td>\n",
       "      <td>50</td>\n",
       "      <td>88.0</td>\n",
       "      <td>188.00</td>\n",
       "      <td>Caucasian</td>\n",
       "      <td>445476265.0</td>\n",
       "      <td>1392.111111</td>\n",
       "      <td>136.022222</td>\n",
       "      <td>88.733333</td>\n",
       "      <td>107.511111</td>\n",
       "      <td>True</td>\n",
       "      <td>False</td>\n",
       "    </tr>\n",
       "  </tbody>\n",
       "</table>\n",
       "<p>1754 rows × 13 columns</p>\n",
       "</div>"
      ],
      "text/plain": [
       "      patientunitstayid  gender age  admissionweight  admissionheight  \\\n",
       "0                242895    Male  80            101.2           170.18   \n",
       "1                243097    Male  49            127.0           185.40   \n",
       "2                243999  Female  70             98.4           157.50   \n",
       "3                244477  Female  55            113.7           165.10   \n",
       "4                246997    Male  62             50.1           172.70   \n",
       "...                 ...     ...  ..              ...              ...   \n",
       "1749            3351763  Female  62            134.5           165.10   \n",
       "1750            3352230    Male  41            127.0           177.80   \n",
       "1751            3352231    Male  41            127.0           177.80   \n",
       "1752            3352333    Male  72             68.3           177.80   \n",
       "1753            3353113    Male  50             88.0           188.00   \n",
       "\n",
       "             ethnicity  vitalaperiodicid  observationoffset  \\\n",
       "0            Caucasian        15957733.0        1102.800000   \n",
       "1            Caucasian        17382422.5        1191.789474   \n",
       "2            Caucasian        11676875.0         806.041096   \n",
       "3            Caucasian        16120409.0         197.000000   \n",
       "4            Caucasian        18137589.0         733.131148   \n",
       "...                ...               ...                ...   \n",
       "1749         Caucasian       443446038.5        2876.161765   \n",
       "1750  African American       443136851.0        2360.507246   \n",
       "1751  African American       445040552.0         655.600000   \n",
       "1752         Caucasian       442861118.5        1505.014286   \n",
       "1753         Caucasian       445476265.0        1392.111111   \n",
       "\n",
       "      noninvasivesystolic  noninvasivediastolic  noninvasivemean  \\\n",
       "0              136.371429             73.028571        87.857143   \n",
       "1              128.947368             77.815789        88.815789   \n",
       "2              101.589041             55.520548        65.945205   \n",
       "3              112.142857             60.285714        72.285714   \n",
       "4               96.245902             66.819672        79.147541   \n",
       "...                   ...                   ...              ...   \n",
       "1749           135.985294             63.323529        89.279412   \n",
       "1750           117.101449             65.260870        84.304348   \n",
       "1751           128.000000             71.800000        91.800000   \n",
       "1752           146.600000             81.628571       106.228571   \n",
       "1753           136.022222             88.733333       107.511111   \n",
       "\n",
       "      cardioDiagnosis  treated  \n",
       "0                True     True  \n",
       "1                True     True  \n",
       "2                True     True  \n",
       "3               False     True  \n",
       "4               False     True  \n",
       "...               ...      ...  \n",
       "1749            False     True  \n",
       "1750             True     True  \n",
       "1751             True     True  \n",
       "1752            False    False  \n",
       "1753             True    False  \n",
       "\n",
       "[1754 rows x 13 columns]"
      ]
     },
     "execution_count": 3,
     "metadata": {},
     "output_type": "execute_result"
    }
   ],
   "source": [
    "df"
   ]
  },
  {
   "cell_type": "code",
   "execution_count": 4,
   "metadata": {},
   "outputs": [
    {
     "name": "stderr",
     "output_type": "stream",
     "text": [
      "C:\\Users\\Núria\\AppData\\Roaming\\Python\\Python37\\site-packages\\pandas\\core\\indexing.py:1732: SettingWithCopyWarning: \n",
      "A value is trying to be set on a copy of a slice from a DataFrame\n",
      "\n",
      "See the caveats in the documentation: https://pandas.pydata.org/pandas-docs/stable/user_guide/indexing.html#returning-a-view-versus-a-copy\n",
      "  self._setitem_single_block(indexer, value, name)\n"
     ]
    }
   ],
   "source": [
    "# Converting categorical variables to numeric\n",
    "df.gender.loc[df.gender == 'Male'] = 1\n",
    "df.gender.loc[df.gender == 'Female'] = 0\n",
    "\n",
    "df.age.loc[df.age == '> 89'] = 89\n",
    "df.age = df.age.astype(float)\n",
    "\n",
    "df.ethnicity.loc[df.ethnicity == 'Caucasian'] = 0\n",
    "df.ethnicity.loc[df.ethnicity == 'Native American'] = 1\n",
    "df.ethnicity.loc[df.ethnicity == 'African American'] = 2\n",
    "df.ethnicity.loc[df.ethnicity == 'Hispanic'] = 3\n",
    "df.ethnicity.loc[df.ethnicity == 'Asian'] = 4\n",
    "df.ethnicity.loc[df.ethnicity == 'Other/Unknown'] = 5\n",
    "\n",
    "df.cardioDiagnosis.loc[df.cardioDiagnosis == True] = 1\n",
    "df.cardioDiagnosis.loc[df.cardioDiagnosis == False] = 0\n",
    "\n",
    "df.treated.loc[df.treated == True] = 1\n",
    "df.treated.loc[df.treated == False] = 0\n"
   ]
  },
  {
   "cell_type": "code",
   "execution_count": 5,
   "metadata": {},
   "outputs": [
    {
     "data": {
      "text/plain": [
       "6"
      ]
     },
     "execution_count": 5,
     "metadata": {},
     "output_type": "execute_result"
    }
   ],
   "source": [
    "df.ethnicity.nunique()"
   ]
  },
  {
   "cell_type": "markdown",
   "metadata": {},
   "source": [
    "Split data into x y training and x y test sets"
   ]
  },
  {
   "cell_type": "code",
   "execution_count": 6,
   "metadata": {},
   "outputs": [],
   "source": [
    "df = df.drop(columns = ['patientunitstayid', 'vitalaperiodicid', 'observationoffset']) \n",
    "train, test = train_test_split(df, test_size=0.25, random_state=25)\n",
    "\n",
    "y_train = train['treated']\n",
    "X_train = train.drop(columns = ['treated'])\n",
    "\n",
    "y_test = test['treated']\n",
    "X_test = test.drop(columns = ['treated'])\n",
    "   \n",
    "y_train = y_train.astype('int')\n",
    "y_test = y_test.astype('int')\n",
    "# All    \n",
    "\n",
    "X_num = X_train.drop(columns = ['gender','ethnicity','cardioDiagnosis'])\n",
    "\n",
    "get_numeric_data = FunctionTransformer(lambda x: x[X_num.columns], validate=False)\n",
    "\n",
    "get_categorical = FunctionTransformer(lambda x: x[['gender','ethnicity','cardioDiagnosis']], validate=False) \n",
    "\n",
    "scaler = MinMaxScaler()\n"
   ]
  },
  {
   "cell_type": "code",
   "execution_count": 7,
   "metadata": {},
   "outputs": [
    {
     "data": {
      "text/html": [
       "<div>\n",
       "<style scoped>\n",
       "    .dataframe tbody tr th:only-of-type {\n",
       "        vertical-align: middle;\n",
       "    }\n",
       "\n",
       "    .dataframe tbody tr th {\n",
       "        vertical-align: top;\n",
       "    }\n",
       "\n",
       "    .dataframe thead th {\n",
       "        text-align: right;\n",
       "    }\n",
       "</style>\n",
       "<table border=\"1\" class=\"dataframe\">\n",
       "  <thead>\n",
       "    <tr style=\"text-align: right;\">\n",
       "      <th></th>\n",
       "      <th>gender</th>\n",
       "      <th>age</th>\n",
       "      <th>admissionweight</th>\n",
       "      <th>admissionheight</th>\n",
       "      <th>ethnicity</th>\n",
       "      <th>noninvasivesystolic</th>\n",
       "      <th>noninvasivediastolic</th>\n",
       "      <th>noninvasivemean</th>\n",
       "      <th>cardioDiagnosis</th>\n",
       "      <th>treated</th>\n",
       "    </tr>\n",
       "  </thead>\n",
       "  <tbody>\n",
       "    <tr>\n",
       "      <th>0</th>\n",
       "      <td>1</td>\n",
       "      <td>80.0</td>\n",
       "      <td>101.2</td>\n",
       "      <td>170.18</td>\n",
       "      <td>0</td>\n",
       "      <td>136.371429</td>\n",
       "      <td>73.028571</td>\n",
       "      <td>87.857143</td>\n",
       "      <td>1</td>\n",
       "      <td>1</td>\n",
       "    </tr>\n",
       "    <tr>\n",
       "      <th>1</th>\n",
       "      <td>1</td>\n",
       "      <td>49.0</td>\n",
       "      <td>127.0</td>\n",
       "      <td>185.40</td>\n",
       "      <td>0</td>\n",
       "      <td>128.947368</td>\n",
       "      <td>77.815789</td>\n",
       "      <td>88.815789</td>\n",
       "      <td>1</td>\n",
       "      <td>1</td>\n",
       "    </tr>\n",
       "    <tr>\n",
       "      <th>2</th>\n",
       "      <td>0</td>\n",
       "      <td>70.0</td>\n",
       "      <td>98.4</td>\n",
       "      <td>157.50</td>\n",
       "      <td>0</td>\n",
       "      <td>101.589041</td>\n",
       "      <td>55.520548</td>\n",
       "      <td>65.945205</td>\n",
       "      <td>1</td>\n",
       "      <td>1</td>\n",
       "    </tr>\n",
       "    <tr>\n",
       "      <th>3</th>\n",
       "      <td>0</td>\n",
       "      <td>55.0</td>\n",
       "      <td>113.7</td>\n",
       "      <td>165.10</td>\n",
       "      <td>0</td>\n",
       "      <td>112.142857</td>\n",
       "      <td>60.285714</td>\n",
       "      <td>72.285714</td>\n",
       "      <td>0</td>\n",
       "      <td>1</td>\n",
       "    </tr>\n",
       "    <tr>\n",
       "      <th>4</th>\n",
       "      <td>1</td>\n",
       "      <td>62.0</td>\n",
       "      <td>50.1</td>\n",
       "      <td>172.70</td>\n",
       "      <td>0</td>\n",
       "      <td>96.245902</td>\n",
       "      <td>66.819672</td>\n",
       "      <td>79.147541</td>\n",
       "      <td>0</td>\n",
       "      <td>1</td>\n",
       "    </tr>\n",
       "    <tr>\n",
       "      <th>...</th>\n",
       "      <td>...</td>\n",
       "      <td>...</td>\n",
       "      <td>...</td>\n",
       "      <td>...</td>\n",
       "      <td>...</td>\n",
       "      <td>...</td>\n",
       "      <td>...</td>\n",
       "      <td>...</td>\n",
       "      <td>...</td>\n",
       "      <td>...</td>\n",
       "    </tr>\n",
       "    <tr>\n",
       "      <th>1749</th>\n",
       "      <td>0</td>\n",
       "      <td>62.0</td>\n",
       "      <td>134.5</td>\n",
       "      <td>165.10</td>\n",
       "      <td>0</td>\n",
       "      <td>135.985294</td>\n",
       "      <td>63.323529</td>\n",
       "      <td>89.279412</td>\n",
       "      <td>0</td>\n",
       "      <td>1</td>\n",
       "    </tr>\n",
       "    <tr>\n",
       "      <th>1750</th>\n",
       "      <td>1</td>\n",
       "      <td>41.0</td>\n",
       "      <td>127.0</td>\n",
       "      <td>177.80</td>\n",
       "      <td>2</td>\n",
       "      <td>117.101449</td>\n",
       "      <td>65.260870</td>\n",
       "      <td>84.304348</td>\n",
       "      <td>1</td>\n",
       "      <td>1</td>\n",
       "    </tr>\n",
       "    <tr>\n",
       "      <th>1751</th>\n",
       "      <td>1</td>\n",
       "      <td>41.0</td>\n",
       "      <td>127.0</td>\n",
       "      <td>177.80</td>\n",
       "      <td>2</td>\n",
       "      <td>128.000000</td>\n",
       "      <td>71.800000</td>\n",
       "      <td>91.800000</td>\n",
       "      <td>1</td>\n",
       "      <td>1</td>\n",
       "    </tr>\n",
       "    <tr>\n",
       "      <th>1752</th>\n",
       "      <td>1</td>\n",
       "      <td>72.0</td>\n",
       "      <td>68.3</td>\n",
       "      <td>177.80</td>\n",
       "      <td>0</td>\n",
       "      <td>146.600000</td>\n",
       "      <td>81.628571</td>\n",
       "      <td>106.228571</td>\n",
       "      <td>0</td>\n",
       "      <td>0</td>\n",
       "    </tr>\n",
       "    <tr>\n",
       "      <th>1753</th>\n",
       "      <td>1</td>\n",
       "      <td>50.0</td>\n",
       "      <td>88.0</td>\n",
       "      <td>188.00</td>\n",
       "      <td>0</td>\n",
       "      <td>136.022222</td>\n",
       "      <td>88.733333</td>\n",
       "      <td>107.511111</td>\n",
       "      <td>1</td>\n",
       "      <td>0</td>\n",
       "    </tr>\n",
       "  </tbody>\n",
       "</table>\n",
       "<p>1754 rows × 10 columns</p>\n",
       "</div>"
      ],
      "text/plain": [
       "     gender   age  admissionweight  admissionheight ethnicity  \\\n",
       "0         1  80.0            101.2           170.18         0   \n",
       "1         1  49.0            127.0           185.40         0   \n",
       "2         0  70.0             98.4           157.50         0   \n",
       "3         0  55.0            113.7           165.10         0   \n",
       "4         1  62.0             50.1           172.70         0   \n",
       "...     ...   ...              ...              ...       ...   \n",
       "1749      0  62.0            134.5           165.10         0   \n",
       "1750      1  41.0            127.0           177.80         2   \n",
       "1751      1  41.0            127.0           177.80         2   \n",
       "1752      1  72.0             68.3           177.80         0   \n",
       "1753      1  50.0             88.0           188.00         0   \n",
       "\n",
       "      noninvasivesystolic  noninvasivediastolic  noninvasivemean  \\\n",
       "0              136.371429             73.028571        87.857143   \n",
       "1              128.947368             77.815789        88.815789   \n",
       "2              101.589041             55.520548        65.945205   \n",
       "3              112.142857             60.285714        72.285714   \n",
       "4               96.245902             66.819672        79.147541   \n",
       "...                   ...                   ...              ...   \n",
       "1749           135.985294             63.323529        89.279412   \n",
       "1750           117.101449             65.260870        84.304348   \n",
       "1751           128.000000             71.800000        91.800000   \n",
       "1752           146.600000             81.628571       106.228571   \n",
       "1753           136.022222             88.733333       107.511111   \n",
       "\n",
       "     cardioDiagnosis treated  \n",
       "0                  1       1  \n",
       "1                  1       1  \n",
       "2                  1       1  \n",
       "3                  0       1  \n",
       "4                  0       1  \n",
       "...              ...     ...  \n",
       "1749               0       1  \n",
       "1750               1       1  \n",
       "1751               1       1  \n",
       "1752               0       0  \n",
       "1753               1       0  \n",
       "\n",
       "[1754 rows x 10 columns]"
      ]
     },
     "execution_count": 7,
     "metadata": {},
     "output_type": "execute_result"
    }
   ],
   "source": [
    "df"
   ]
  },
  {
   "cell_type": "code",
   "execution_count": 8,
   "metadata": {},
   "outputs": [
    {
     "data": {
      "text/plain": [
       "gender                   object\n",
       "age                     float64\n",
       "admissionweight         float64\n",
       "admissionheight         float64\n",
       "ethnicity                object\n",
       "noninvasivesystolic     float64\n",
       "noninvasivediastolic    float64\n",
       "noninvasivemean         float64\n",
       "cardioDiagnosis          object\n",
       "treated                  object\n",
       "dtype: object"
      ]
     },
     "execution_count": 8,
     "metadata": {},
     "output_type": "execute_result"
    }
   ],
   "source": [
    "df.dtypes"
   ]
  },
  {
   "cell_type": "markdown",
   "metadata": {},
   "source": [
    "Modeling"
   ]
  },
  {
   "cell_type": "code",
   "execution_count": 9,
   "metadata": {},
   "outputs": [],
   "source": [
    "# Logistic Regression\n",
    "lr = LogisticRegression(random_state = 42,tol=1**-4,verbose=1) #,solver='lbfgs') #,class_weight='balanced')\n",
    "\n",
    "# Random forests\n",
    "rf = RandomForestClassifier(random_state = 42\n",
    "                            #,n_jobs =-1 # set The number of jobs to run in parallel -1 means using all processors\n",
    "                           )\n",
    "\n",
    "# Neural Network\n",
    "\n",
    "nn = MLPClassifier(random_state = 42,max_iter=500)\n",
    "\n",
    "# SVM\n",
    "\n",
    "svm = SVC(random_state = 42,probability=True) # Whether to enable probability estimates. This must be enabled prior to calling fit, and will slow down that method.\n",
    "\n",
    "# XGB\n",
    "\n",
    "xgb = XGBClassifier(random_state = 42)\n",
    "\n",
    "all_models_list = [lr,\n",
    "                   rf,\n",
    "                   nn,\n",
    "                   svm,\n",
    "                   xgb]\n",
    "\n",
    "all_models_names = ['lr',\n",
    "                    'rf',\n",
    "                    'nn',\n",
    "                    'svm',\n",
    "                    'xgb']\n",
    "\n",
    "#all_models_list = [rf]\n",
    "\n",
    "#all_models_names = ['rf']"
   ]
  },
  {
   "cell_type": "markdown",
   "metadata": {},
   "source": [
    "## Pipelines\n",
    "These are the parameters we are going to pass to each model in the hyper-parameter tunning."
   ]
  },
  {
   "cell_type": "code",
   "execution_count": 10,
   "metadata": {},
   "outputs": [],
   "source": [
    "num_pipe = Pipeline([\n",
    "  ('select_num', get_numeric_data),\n",
    "  ('scale', scaler)\n",
    "  ])\n",
    "\n",
    "cat_pipe = Pipeline([\n",
    "  ('select_cat', get_categorical)\n",
    "  ])\n",
    "\n",
    "# Logistic Regression\n",
    "lr_params =  {'clf__C':[0.0001,0.001,0.01,0.1,1.0]\n",
    "               , 'clf__solver':['newton-cg', 'lbfgs', 'sag', 'saga']\n",
    "               , 'clf__warm_start':[True,False]}   \n",
    "\n",
    "# Random forests      \n",
    "rf_params =  {'clf__n_estimators':  [1000,1500],\n",
    "               'clf__max_features': ['sqrt'],\n",
    "               'clf__max_depth': [2,3,4,5],\n",
    "               'clf__bootstrap': [True, False],\n",
    "               'clf__criterion': [\"gini\"],\n",
    "               'clf__warm_start':[True,False]\n",
    "               #,'clf__oob_score':[True,False]\n",
    "             }\n",
    "\n",
    "# Neural Network    \n",
    "nn_params =  {'clf__hidden_layer_sizes': [(10,10,10), (50,100,50), (100,20)],\n",
    "               'clf__activation': ['tanh', 'relu'],\n",
    "               'clf__solver': ['sgd', 'adam'],\n",
    "               'clf__alpha': [0.0001, 0.05],\n",
    "               'clf__learning_rate': ['constant','adaptive']}\n",
    "\n",
    "# SVM    \n",
    "svm_params =  {'clf__C': [1, 10, 100, 1000],\n",
    "               'clf__gamma': [0.001, 0.0001],\n",
    "               'clf__kernel': ['rbf','linear']} \n",
    "\n",
    "# XGB    \n",
    "xgb_params =  {'clf__max_depth': [1,3,100],\n",
    "               'clf__learning_rate': [0.1],\n",
    "               'clf__n_estimators': [100,500,1000],\n",
    "               'clf__silent': [True],\n",
    "               'clf__objective': ['binary:logistic'],\n",
    "               'clf__booster': ['gbtree'],\n",
    "               'clf__n_jobs': [1],\n",
    "               'clf__nthread': [None],\n",
    "               'clf__gamma': [0],\n",
    "               'clf__min_child_weight': [1],\n",
    "               'clf__max_delta_step': [0],\n",
    "               'clf__subsample': [1],\n",
    "               'clf__colsample_bytree': [1],\n",
    "               'clf__colsample_bylevel': [1],\n",
    "               'clf__reg_alpha': [0,0.0001, 0.05, 0.5],\n",
    "               'clf__reg_lambda': [0,1],\n",
    "               'clf__scale_pos_weight': [1,53.22], # Controls the balance of positive and negative weights, useful for unbalanced classes. A typical value to consider: sumnegative instances / sumpositive instances\n",
    "               'clf__base_score': [0.5],\n",
    "               'clf__random_state': [0],\n",
    "               'clf__seed': [None]} \n",
    "\n",
    "all_params_list = [lr_params,\n",
    "                    rf_params,\n",
    "                    nn_params,\n",
    "                    svm_params,\n",
    "                    xgb_params\n",
    "                  ]\n",
    "\n",
    "#all_params_list = [rf_params\n",
    "#                  ]"
   ]
  },
  {
   "cell_type": "code",
   "execution_count": 11,
   "metadata": {},
   "outputs": [
    {
     "name": "stdout",
     "output_type": "stream",
     "text": [
      "<class 'sklearn.linear_model._logistic.LogisticRegression'>\n",
      "Fitting 5 folds for each of 5 candidates, totalling 25 fits\n"
     ]
    },
    {
     "name": "stderr",
     "output_type": "stream",
     "text": [
      "[Parallel(n_jobs=1)]: Using backend SequentialBackend with 1 concurrent workers.\n",
      "[Parallel(n_jobs=1)]: Done   1 out of   1 | elapsed:    0.0s finished\n"
     ]
    },
    {
     "name": "stdout",
     "output_type": "stream",
     "text": [
      "<class 'sklearn.ensemble._forest.RandomForestClassifier'>\n",
      "Fitting 5 folds for each of 5 candidates, totalling 25 fits\n",
      "<class 'sklearn.neural_network._multilayer_perceptron.MLPClassifier'>\n",
      "Fitting 5 folds for each of 5 candidates, totalling 25 fits\n",
      "<class 'sklearn.svm._classes.SVC'>\n",
      "Fitting 5 folds for each of 5 candidates, totalling 25 fits\n",
      "<class 'xgboost.sklearn.XGBClassifier'>\n",
      "Fitting 5 folds for each of 5 candidates, totalling 25 fits\n"
     ]
    },
    {
     "name": "stderr",
     "output_type": "stream",
     "text": [
      "c:\\Python\\lib\\site-packages\\xgboost\\sklearn.py:1224: UserWarning: The use of label encoder in XGBClassifier is deprecated and will be removed in a future release. To remove this warning, do the following: 1) Pass option use_label_encoder=False when constructing XGBClassifier object; and 2) Encode your labels (y) as integers starting with 0, i.e. 0, 1, 2, ..., [num_class - 1].\n",
      "  warnings.warn(label_encoder_deprecation_msg, UserWarning)\n"
     ]
    },
    {
     "name": "stdout",
     "output_type": "stream",
     "text": [
      "[21:47:04] WARNING: C:/Users/Administrator/workspace/xgboost-win64_release_1.5.1/src/learner.cc:576: \n",
      "Parameters: { \"silent\" } might not be used.\n",
      "\n",
      "  This could be a false alarm, with some parameters getting used by language bindings but\n",
      "  then being mistakenly passed down to XGBoost core, or some parameter actually being used\n",
      "  but getting flagged wrongly here. Please open an issue if you find any such cases.\n",
      "\n",
      "\n",
      "[21:47:04] WARNING: C:/Users/Administrator/workspace/xgboost-win64_release_1.5.1/src/learner.cc:1115: Starting in XGBoost 1.3.0, the default evaluation metric used with the objective 'binary:logistic' was changed from 'error' to 'logloss'. Explicitly set eval_metric if you'd like to restore the old behavior.\n"
     ]
    }
   ],
   "source": [
    "bestmodels = [] # we create an empty list to store the best performing version of each model\n",
    "\n",
    "if len(all_models_list) == len(all_params_list):\n",
    "    for i,model in enumerate(all_models_list):\n",
    "        print(type(all_models_list[i]))\n",
    "        full_pipeline = Pipeline([('feat_union',\n",
    "                                   FeatureUnion(transformer_list=[('cat_pipeline', cat_pipe),('num_pipeline', num_pipe) ])),\n",
    "                                  ('clf', model)])\n",
    "    \n",
    "        scoring = make_scorer(roc_auc_score, needs_threshold = True)\n",
    "    \n",
    "        random_search = RandomizedSearchCV(full_pipeline, param_distributions=all_params_list[i], n_iter=5, cv=5, refit = True, scoring=scoring, n_jobs=-1, verbose=10, random_state = 42)\n",
    "    \n",
    "        sys.setrecursionlimit(10000)\n",
    "        random_search.fit(X_train, y_train) \n",
    "    \n",
    "        # Best model in training\n",
    "        bestmodels.append(random_search.best_estimator_)\n",
    "    \n",
    "else:\n",
    "    print('Make sure the amount of models in all_models_list matches the amount of params in all_params_list')"
   ]
  },
  {
   "cell_type": "code",
   "execution_count": 12,
   "metadata": {},
   "outputs": [
    {
     "data": {
      "text/plain": [
       "[Pipeline(steps=[('feat_union',\n",
       "                  FeatureUnion(transformer_list=[('cat_pipeline',\n",
       "                                                  Pipeline(steps=[('select_cat',\n",
       "                                                                   FunctionTransformer(func=<function <lambda> at 0x0000022459D769D8>))])),\n",
       "                                                 ('num_pipeline',\n",
       "                                                  Pipeline(steps=[('select_num',\n",
       "                                                                   FunctionTransformer(func=<function <lambda> at 0x00000224376DF168>)),\n",
       "                                                                  ('scale',\n",
       "                                                                   MinMaxScaler())]))])),\n",
       "                 ('clf',\n",
       "                  LogisticRegression(C=0.1, random_state=42, tol=1.0, verbose=1,\n",
       "                                     warm_start=True))]),\n",
       " Pipeline(steps=[('feat_union',\n",
       "                  FeatureUnion(transformer_list=[('cat_pipeline',\n",
       "                                                  Pipeline(steps=[('select_cat',\n",
       "                                                                   FunctionTransformer(func=<function <lambda> at 0x0000022459D769D8>))])),\n",
       "                                                 ('num_pipeline',\n",
       "                                                  Pipeline(steps=[('select_num',\n",
       "                                                                   FunctionTransformer(func=<function <lambda> at 0x00000224376DF168>)),\n",
       "                                                                  ('scale',\n",
       "                                                                   MinMaxScaler())]))])),\n",
       "                 ('clf',\n",
       "                  RandomForestClassifier(bootstrap=False, max_depth=2,\n",
       "                                         max_features='sqrt', n_estimators=1000,\n",
       "                                         random_state=42))]),\n",
       " Pipeline(steps=[('feat_union',\n",
       "                  FeatureUnion(transformer_list=[('cat_pipeline',\n",
       "                                                  Pipeline(steps=[('select_cat',\n",
       "                                                                   FunctionTransformer(func=<function <lambda> at 0x0000022459D769D8>))])),\n",
       "                                                 ('num_pipeline',\n",
       "                                                  Pipeline(steps=[('select_num',\n",
       "                                                                   FunctionTransformer(func=<function <lambda> at 0x00000224376DF168>)),\n",
       "                                                                  ('scale',\n",
       "                                                                   MinMaxScaler())]))])),\n",
       "                 ('clf',\n",
       "                  MLPClassifier(hidden_layer_sizes=(10, 10, 10),\n",
       "                                learning_rate='adaptive', max_iter=500,\n",
       "                                random_state=42))]),\n",
       " Pipeline(steps=[('feat_union',\n",
       "                  FeatureUnion(transformer_list=[('cat_pipeline',\n",
       "                                                  Pipeline(steps=[('select_cat',\n",
       "                                                                   FunctionTransformer(func=<function <lambda> at 0x0000022459D769D8>))])),\n",
       "                                                 ('num_pipeline',\n",
       "                                                  Pipeline(steps=[('select_num',\n",
       "                                                                   FunctionTransformer(func=<function <lambda> at 0x00000224376DF168>)),\n",
       "                                                                  ('scale',\n",
       "                                                                   MinMaxScaler())]))])),\n",
       "                 ('clf',\n",
       "                  SVC(C=1000, gamma=0.0001, probability=True, random_state=42))]),\n",
       " Pipeline(steps=[('feat_union',\n",
       "                  FeatureUnion(transformer_list=[('cat_pipeline',\n",
       "                                                  Pipeline(steps=[('select_cat',\n",
       "                                                                   FunctionTransformer(func=<function <lambda> at 0x0000022459D769D8>))])),\n",
       "                                                 ('num_pipeline',\n",
       "                                                  Pipeline(steps=[('select_num',\n",
       "                                                                   FunctionTransformer(func=<function <lambda> at 0x00000224376DF168>)),\n",
       "                                                                  ('scale',\n",
       "                                                                   MinMaxScaler())]))])),\n",
       "                 ('clf',\n",
       "                  XGBClassifier(base_score...\n",
       "                                gamma=0, gpu_id=-1, importance_type=None,\n",
       "                                interaction_constraints='', learning_rate=0.1,\n",
       "                                max_delta_step=0, max_depth=1,\n",
       "                                min_child_weight=1, missing=nan,\n",
       "                                monotone_constraints='()', n_estimators=500,\n",
       "                                n_jobs=1, nthread=1, num_parallel_tree=1,\n",
       "                                predictor='auto', random_state=0, reg_alpha=0,\n",
       "                                reg_lambda=1, scale_pos_weight=53.22, seed=0,\n",
       "                                silent=True, subsample=1, tree_method='exact',\n",
       "                                validate_parameters=1, ...))])]"
      ]
     },
     "execution_count": 12,
     "metadata": {},
     "output_type": "execute_result"
    }
   ],
   "source": [
    "bestmodels"
   ]
  },
  {
   "cell_type": "markdown",
   "metadata": {},
   "source": [
    "### Defining functions\n",
    "Specificity and Sensitivity"
   ]
  },
  {
   "cell_type": "code",
   "execution_count": 13,
   "metadata": {},
   "outputs": [],
   "source": [
    "def spec(y_true,y_pred):\n",
    "    TN, FP, FN, TP = confusion_matrix(y_true,y_pred).ravel()\n",
    "    return TN/(TN+FP)   \n",
    "\n",
    "def sens(y_true,y_pred):\n",
    "    TN, FP, FN, TP = confusion_matrix(y_true,y_pred).ravel()\n",
    "    return TP/(TP+FN) "
   ]
  },
  {
   "cell_type": "markdown",
   "metadata": {},
   "source": [
    "Optimal AUC threshold"
   ]
  },
  {
   "cell_type": "code",
   "execution_count": 14,
   "metadata": {},
   "outputs": [],
   "source": [
    "def optimal_threshold_auc(target, predicted):\n",
    " \n",
    "    fpr, tpr, threshold = roc_curve(target, predicted)\n",
    "    i = np.arange(len(tpr)) \n",
    "    roc = pd.DataFrame({'tf' : pd.Series(tpr-(1-fpr), index=i), 'threshold' : pd.Series(threshold, index=i)})\n",
    "    roc_t = roc.iloc[(roc.tf-0).abs().argsort()[:1]]\n",
    "    return list(roc_t['threshold'])"
   ]
  },
  {
   "cell_type": "markdown",
   "metadata": {},
   "source": [
    "AUROC"
   ]
  },
  {
   "cell_type": "code",
   "execution_count": 15,
   "metadata": {},
   "outputs": [],
   "source": [
    "def auroc(y, ypred,title):\n",
    "    fig = pyplot.figure(figsize=(8,5))\n",
    "    ax = fig.add_subplot(111)\n",
    "    fpr, tpr, thresholds = roc_curve(y, ypred)\n",
    "    auc_score = roc_auc_score(y, ypred)\n",
    "\n",
    "    pyplot.plot([0, 1], [0, 1], linestyle='--')\n",
    "    pyplot.plot(fpr, tpr, marker='.',color='c')\n",
    "    pyplot.xlabel('False positive rate')\n",
    "    pyplot.ylabel('Recall')\n",
    "    pyplot.ylim([0.0, 1.05])\n",
    "    pyplot.xlim([0.0, 1.0])\n",
    "    pyplot.title(title+' '+'AUROC={0:0.2f}'.format(auc_score)) \n",
    "    for item in ([ax.title, ax.xaxis.label, ax.yaxis.label] +\n",
    "             ax.get_xticklabels() + ax.get_yticklabels()):\n",
    "        item.set_fontsize(20)"
   ]
  },
  {
   "cell_type": "markdown",
   "metadata": {},
   "source": [
    "AUPR"
   ]
  },
  {
   "cell_type": "code",
   "execution_count": 16,
   "metadata": {},
   "outputs": [],
   "source": [
    "def aupr(y, ypred,title):\n",
    "    fig = pyplot.figure(figsize=(8,5))\n",
    "    ax = fig.add_subplot(111)\n",
    "\n",
    "    Baseline = sum(y)/len(y)\n",
    "    average_precision = metrics.average_precision_score(y, ypred)\n",
    "    \n",
    "    precision, recall, _ = precision_recall_curve(y, ypred)\n",
    "    auc = metrics.auc(recall, precision)\n",
    "    step_kwargs = ({'step': 'post'}\n",
    "    if 'step' in signature(pyplot.fill_between).parameters\n",
    "    else {})\n",
    "    pyplot.step(recall, precision, color='c', where='post')\n",
    "    pyplot.fill_between(recall, precision, color='c', **step_kwargs)\n",
    "    pyplot.xlabel('Recall')\n",
    "    pyplot.ylabel('Precision')\n",
    "    pyplot.ylim([0.0, 1.05])\n",
    "    pyplot.xlim([0.0, 1.0])\n",
    "    pyplot.title(title+' '+'AUPRC={0:0.2f}'.format(auc))\n",
    "#    pyplot.plot(Baseline, 'b-',label='Baseline')\n",
    "#    pyplot.legend(bbox_to_anchor=(0.7, 0.9), loc=2, borderaxespad=0., fontsize = 16)\n",
    "    for item in ([ax.title, ax.xaxis.label, ax.yaxis.label] +\n",
    "             ax.get_xticklabels() + ax.get_yticklabels()):\n",
    "        item.set_fontsize(20) \n",
    "        \n",
    "        \n",
    "def metric_aupr(y_true, y_pred):\n",
    "    precision, recall, _ = precision_recall_curve(y_true, y_pred)\n",
    "    auc = metrics.auc(recall, precision)\n",
    "    return auc        "
   ]
  },
  {
   "cell_type": "markdown",
   "metadata": {},
   "source": [
    "Bootstrapping function"
   ]
  },
  {
   "cell_type": "code",
   "execution_count": 17,
   "metadata": {},
   "outputs": [],
   "source": [
    "def metric_SMR(y_true, y_pred):\n",
    "   SMR = sum(y_pred)/sum(y_true)\n",
    "   return SMR\n",
    "\n",
    "def get_CI_boot(y_true,y_pred,metric,boot):\n",
    "    # bootstrap confidence intervals\n",
    "    # seed the random number generator\n",
    "    seed(1)\n",
    "    i = 0\n",
    "    # generate dataset\n",
    "    dataset = y_pred\n",
    "    real = y_true\n",
    "    # bootstrap\n",
    "    scores = list()\n",
    "    while i < boot:\n",
    "        # bootstrap sample\n",
    "        indices = randint(0, len(y_pred) - 1, len(y_pred))\n",
    "        sample = dataset[indices]\n",
    "        real = y_true[indices]\n",
    "        if len(np.unique(y_true[indices])) < 2:\n",
    "            # We need at least one positive and one negative sample for ROC AUC\n",
    "            # to be defined: reject the sample\n",
    "            continue\n",
    "    \t# calculate and store statistic \n",
    "        else:\n",
    "            statistic = metric(real,sample)\n",
    "            scores.append(statistic)\n",
    "            i += 1\n",
    "    \n",
    "    # calculate 95% confidence intervals (100 - alpha)\n",
    "    alpha = 5.0\n",
    "    # calculate lower percentile (e.g. 2.5)\n",
    "    lower_p = alpha / 2.0\n",
    "    # retrieve observation at lower percentile\n",
    "    lower = max(0.0, percentile(scores, lower_p))\n",
    "    # calculate upper percentile (e.g. 97.5)\n",
    "    upper_p = (100 - alpha) + (alpha / 2.0)\n",
    "    # retrieve observation at upper percentile\n",
    "    if metric == metric_SMR:\n",
    "        upper = percentile(scores, upper_p)\n",
    "    else:\n",
    "        upper = min(1.0, percentile(scores, upper_p))\n",
    "    delta = upper-lower\n",
    "    mediana = median(scores)\n",
    "    return mediana,(lower,upper),delta"
   ]
  },
  {
   "cell_type": "markdown",
   "metadata": {},
   "source": [
    "### Predictions in train and test\n",
    "Insights, AUPR and AUROC curves"
   ]
  },
  {
   "cell_type": "code",
   "execution_count": 18,
   "metadata": {},
   "outputs": [
    {
     "name": "stdout",
     "output_type": "stream",
     "text": [
      "lr\n"
     ]
    },
    {
     "name": "stderr",
     "output_type": "stream",
     "text": [
      "c:\\Python\\lib\\site-packages\\ipykernel_launcher.py:43: DeprecationWarning: `np.int` is a deprecated alias for the builtin `int`. To silence this warning, use `int` by itself. Doing this will not modify any behavior and is safe. When replacing `np.int`, you may wish to use e.g. `np.int64` or `np.int32` to specify the precision. If you wish to review your current use, check the release note link for additional information.\n",
      "Deprecated in NumPy 1.20; for more details and guidance: https://numpy.org/devdocs/release/1.20.0-notes.html#deprecations\n",
      "c:\\Python\\lib\\site-packages\\ipykernel_launcher.py:43: DeprecationWarning: `np.int` is a deprecated alias for the builtin `int`. To silence this warning, use `int` by itself. Doing this will not modify any behavior and is safe. When replacing `np.int`, you may wish to use e.g. `np.int64` or `np.int32` to specify the precision. If you wish to review your current use, check the release note link for additional information.\n",
      "Deprecated in NumPy 1.20; for more details and guidance: https://numpy.org/devdocs/release/1.20.0-notes.html#deprecations\n",
      "c:\\Python\\lib\\site-packages\\ipykernel_launcher.py:43: DeprecationWarning: `np.int` is a deprecated alias for the builtin `int`. To silence this warning, use `int` by itself. Doing this will not modify any behavior and is safe. When replacing `np.int`, you may wish to use e.g. `np.int64` or `np.int32` to specify the precision. If you wish to review your current use, check the release note link for additional information.\n",
      "Deprecated in NumPy 1.20; for more details and guidance: https://numpy.org/devdocs/release/1.20.0-notes.html#deprecations\n"
     ]
    },
    {
     "name": "stdout",
     "output_type": "stream",
     "text": [
      "[roc_auc_score 0.71 CI [0.65-0.78], precision_score 0.83 CI [0.78-0.88], spec 0.69 CI [0.59-0.77], sens 0.66 CI [0.6-0.71]]\n",
      "rf\n"
     ]
    },
    {
     "name": "stderr",
     "output_type": "stream",
     "text": [
      "c:\\Python\\lib\\site-packages\\ipykernel_launcher.py:43: DeprecationWarning: `np.int` is a deprecated alias for the builtin `int`. To silence this warning, use `int` by itself. Doing this will not modify any behavior and is safe. When replacing `np.int`, you may wish to use e.g. `np.int64` or `np.int32` to specify the precision. If you wish to review your current use, check the release note link for additional information.\n",
      "Deprecated in NumPy 1.20; for more details and guidance: https://numpy.org/devdocs/release/1.20.0-notes.html#deprecations\n",
      "c:\\Python\\lib\\site-packages\\ipykernel_launcher.py:43: DeprecationWarning: `np.int` is a deprecated alias for the builtin `int`. To silence this warning, use `int` by itself. Doing this will not modify any behavior and is safe. When replacing `np.int`, you may wish to use e.g. `np.int64` or `np.int32` to specify the precision. If you wish to review your current use, check the release note link for additional information.\n",
      "Deprecated in NumPy 1.20; for more details and guidance: https://numpy.org/devdocs/release/1.20.0-notes.html#deprecations\n",
      "c:\\Python\\lib\\site-packages\\ipykernel_launcher.py:43: DeprecationWarning: `np.int` is a deprecated alias for the builtin `int`. To silence this warning, use `int` by itself. Doing this will not modify any behavior and is safe. When replacing `np.int`, you may wish to use e.g. `np.int64` or `np.int32` to specify the precision. If you wish to review your current use, check the release note link for additional information.\n",
      "Deprecated in NumPy 1.20; for more details and guidance: https://numpy.org/devdocs/release/1.20.0-notes.html#deprecations\n"
     ]
    },
    {
     "name": "stdout",
     "output_type": "stream",
     "text": [
      "[roc_auc_score 0.72 CI [0.65-0.78], precision_score 0.84 CI [0.78-0.89], spec 0.69 CI [0.59-0.77], sens 0.67 CI [0.61-0.72]]\n",
      "nn\n"
     ]
    },
    {
     "name": "stderr",
     "output_type": "stream",
     "text": [
      "c:\\Python\\lib\\site-packages\\ipykernel_launcher.py:43: DeprecationWarning: `np.int` is a deprecated alias for the builtin `int`. To silence this warning, use `int` by itself. Doing this will not modify any behavior and is safe. When replacing `np.int`, you may wish to use e.g. `np.int64` or `np.int32` to specify the precision. If you wish to review your current use, check the release note link for additional information.\n",
      "Deprecated in NumPy 1.20; for more details and guidance: https://numpy.org/devdocs/release/1.20.0-notes.html#deprecations\n",
      "c:\\Python\\lib\\site-packages\\ipykernel_launcher.py:43: DeprecationWarning: `np.int` is a deprecated alias for the builtin `int`. To silence this warning, use `int` by itself. Doing this will not modify any behavior and is safe. When replacing `np.int`, you may wish to use e.g. `np.int64` or `np.int32` to specify the precision. If you wish to review your current use, check the release note link for additional information.\n",
      "Deprecated in NumPy 1.20; for more details and guidance: https://numpy.org/devdocs/release/1.20.0-notes.html#deprecations\n",
      "c:\\Python\\lib\\site-packages\\ipykernel_launcher.py:43: DeprecationWarning: `np.int` is a deprecated alias for the builtin `int`. To silence this warning, use `int` by itself. Doing this will not modify any behavior and is safe. When replacing `np.int`, you may wish to use e.g. `np.int64` or `np.int32` to specify the precision. If you wish to review your current use, check the release note link for additional information.\n",
      "Deprecated in NumPy 1.20; for more details and guidance: https://numpy.org/devdocs/release/1.20.0-notes.html#deprecations\n"
     ]
    },
    {
     "name": "stdout",
     "output_type": "stream",
     "text": [
      "[roc_auc_score 0.7 CI [0.62-0.75], precision_score 0.83 CI [0.78-0.87], spec 0.67 CI [0.57-0.75], sens 0.67 CI [0.61-0.71]]\n",
      "svm\n"
     ]
    },
    {
     "name": "stderr",
     "output_type": "stream",
     "text": [
      "c:\\Python\\lib\\site-packages\\ipykernel_launcher.py:43: DeprecationWarning: `np.int` is a deprecated alias for the builtin `int`. To silence this warning, use `int` by itself. Doing this will not modify any behavior and is safe. When replacing `np.int`, you may wish to use e.g. `np.int64` or `np.int32` to specify the precision. If you wish to review your current use, check the release note link for additional information.\n",
      "Deprecated in NumPy 1.20; for more details and guidance: https://numpy.org/devdocs/release/1.20.0-notes.html#deprecations\n",
      "c:\\Python\\lib\\site-packages\\ipykernel_launcher.py:43: DeprecationWarning: `np.int` is a deprecated alias for the builtin `int`. To silence this warning, use `int` by itself. Doing this will not modify any behavior and is safe. When replacing `np.int`, you may wish to use e.g. `np.int64` or `np.int32` to specify the precision. If you wish to review your current use, check the release note link for additional information.\n",
      "Deprecated in NumPy 1.20; for more details and guidance: https://numpy.org/devdocs/release/1.20.0-notes.html#deprecations\n",
      "c:\\Python\\lib\\site-packages\\ipykernel_launcher.py:43: DeprecationWarning: `np.int` is a deprecated alias for the builtin `int`. To silence this warning, use `int` by itself. Doing this will not modify any behavior and is safe. When replacing `np.int`, you may wish to use e.g. `np.int64` or `np.int32` to specify the precision. If you wish to review your current use, check the release note link for additional information.\n",
      "Deprecated in NumPy 1.20; for more details and guidance: https://numpy.org/devdocs/release/1.20.0-notes.html#deprecations\n"
     ]
    },
    {
     "name": "stdout",
     "output_type": "stream",
     "text": [
      "[roc_auc_score 0.72 CI [0.66-0.78], precision_score 0.83 CI [0.78-0.88], spec 0.67 CI [0.6-0.75], sens 0.67 CI [0.62-0.71]]\n",
      "xgb\n"
     ]
    },
    {
     "name": "stderr",
     "output_type": "stream",
     "text": [
      "c:\\Python\\lib\\site-packages\\ipykernel_launcher.py:43: DeprecationWarning: `np.int` is a deprecated alias for the builtin `int`. To silence this warning, use `int` by itself. Doing this will not modify any behavior and is safe. When replacing `np.int`, you may wish to use e.g. `np.int64` or `np.int32` to specify the precision. If you wish to review your current use, check the release note link for additional information.\n",
      "Deprecated in NumPy 1.20; for more details and guidance: https://numpy.org/devdocs/release/1.20.0-notes.html#deprecations\n",
      "c:\\Python\\lib\\site-packages\\ipykernel_launcher.py:43: DeprecationWarning: `np.int` is a deprecated alias for the builtin `int`. To silence this warning, use `int` by itself. Doing this will not modify any behavior and is safe. When replacing `np.int`, you may wish to use e.g. `np.int64` or `np.int32` to specify the precision. If you wish to review your current use, check the release note link for additional information.\n",
      "Deprecated in NumPy 1.20; for more details and guidance: https://numpy.org/devdocs/release/1.20.0-notes.html#deprecations\n",
      "c:\\Python\\lib\\site-packages\\ipykernel_launcher.py:43: DeprecationWarning: `np.int` is a deprecated alias for the builtin `int`. To silence this warning, use `int` by itself. Doing this will not modify any behavior and is safe. When replacing `np.int`, you may wish to use e.g. `np.int64` or `np.int32` to specify the precision. If you wish to review your current use, check the release note link for additional information.\n",
      "Deprecated in NumPy 1.20; for more details and guidance: https://numpy.org/devdocs/release/1.20.0-notes.html#deprecations\n"
     ]
    },
    {
     "name": "stdout",
     "output_type": "stream",
     "text": [
      "[roc_auc_score 0.69 CI [0.63-0.73], precision_score 0.82 CI [0.77-0.87], spec 0.66 CI [0.56-0.74], sens 0.65 CI [0.6-0.7]]\n"
     ]
    },
    {
     "data": {
      "image/png": "[encoded data removed]",
      "text/plain": [
       "<Figure size 576x360 with 1 Axes>"
      ]
     },
     "metadata": {
      "needs_background": "light"
     },
     "output_type": "display_data"
    },
    {
     "data": {
      "image/png": "[encoded data removed]",
      "text/plain": [
       "<Figure size 576x360 with 1 Axes>"
      ]
     },
     "metadata": {
      "needs_background": "light"
     },
     "output_type": "display_data"
    },
    {
     "data": {
      "image/png": "[encoded data removed]",
      "text/plain": [
       "<Figure size 576x360 with 1 Axes>"
      ]
     },
     "metadata": {
      "needs_background": "light"
     },
     "output_type": "display_data"
    },
    {
     "data": {
      "image/png": "[encoded data removed]",
      "text/plain": [
       "<Figure size 576x360 with 1 Axes>"
      ]
     },
     "metadata": {
      "needs_background": "light"
     },
     "output_type": "display_data"
    },
    {
     "data": {
      "image/png": "[encoded data removed]",
      "text/plain": [
       "<Figure size 576x360 with 1 Axes>"
      ]
     },
     "metadata": {
      "needs_background": "light"
     },
     "output_type": "display_data"
    },
    {
     "data": {
      "image/png": "[encoded data removed]",
      "text/plain": [
       "<Figure size 576x360 with 1 Axes>"
      ]
     },
     "metadata": {
      "needs_background": "light"
     },
     "output_type": "display_data"
    },
    {
     "data": {
      "image/png": "[encoded data removed]",
      "text/plain": [
       "<Figure size 576x360 with 1 Axes>"
      ]
     },
     "metadata": {
      "needs_background": "light"
     },
     "output_type": "display_data"
    },
    {
     "data": {
      "image/png": "[encoded data removed]",
      "text/plain": [
       "<Figure size 576x360 with 1 Axes>"
      ]
     },
     "metadata": {
      "needs_background": "light"
     },
     "output_type": "display_data"
    },
    {
     "data": {
      "image/png": "[encoded data removed]",
      "text/plain": [
       "<Figure size 576x360 with 1 Axes>"
      ]
     },
     "metadata": {
      "needs_background": "light"
     },
     "output_type": "display_data"
    },
    {
     "data": {
      "image/png": "[encoded data removed]",
      "text/plain": [
       "<Figure size 576x360 with 1 Axes>"
      ]
     },
     "metadata": {
      "needs_background": "light"
     },
     "output_type": "display_data"
    }
   ],
   "source": [
    "for i,model in enumerate(bestmodels):\n",
    "    modelname = all_models_names[i]\n",
    "    print(modelname)\n",
    "    y_train_pred = model.predict_proba(X_train)[:,1]\n",
    "    y_test_pred = model.predict_proba(X_test)[:,1]\n",
    "    auroc(y_test, y_test_pred,all_models_names[i])\n",
    "    aupr(y_test, y_test_pred,all_models_names[i])\n",
    "    # Threshold in train\n",
    "    threshold = optimal_threshold_auc(y_train, y_train_pred)\n",
    "    \n",
    "   # performance_all = [roc_auc_score,average_precision_score, accuracy_score, spec, \n",
    "   #                sens, precision_score, f1_score, cohen_kappa_score,metric_SMR,metric_aupr] \n",
    "   # \n",
    "   # performance_names_all = np.array(['roc_auc_score','average_precision_score'\n",
    "   #                               ,' accuracy_score',' spec','sens',' precision_score'\n",
    "   #                               ,' f1_score',' cohen_kappa_score','metric_SMR','metric_aupr'])\n",
    "   # \n",
    "    performance = [roc_auc_score,precision_score, spec, sens] \n",
    "    \n",
    "    performance_names = np.array(['roc_auc_score','precision_score','spec','sens'])\n",
    "    \n",
    "    \n",
    "    conf = []\n",
    "    delt = []\n",
    "    met = []\n",
    "    med = []\n",
    "    te = []\n",
    "    performance_insights = []\n",
    "    \n",
    "    y_test = np.array(y_test)\n",
    "    \n",
    "    for i,p in enumerate(performance):\n",
    "        \n",
    "        if (p == roc_auc_score or p == average_precision_score or p == metric_aupr):\n",
    "            mediana,extremes,delta = get_CI_boot(y_test,y_test_pred,p,boot=100) #atencao aqui ao boot\n",
    "            met.append(p)\n",
    "            conf.append(extremes)\n",
    "            delt.append(delta)\n",
    "            med.append(mediana)\n",
    "            te.append(p(y_test,y_test_pred)) \n",
    "            performance_insights.append(performance_names[i]+' '+str(round(p(y_test,y_test_pred), 2)) +' CI ['+ str(round(extremes[0], 2))  +'-'+  str(round(extremes[1], 2)) +']')\n",
    "        else:\n",
    "            y_pred_threshold = (y_test_pred >= threshold).astype(np.int)\n",
    "            mediana,extremes,delta = get_CI_boot(y_test,y_pred_threshold,p,boot=100)\n",
    "            met.append(p)\n",
    "            conf.append(extremes)\n",
    "            delt.append(delta)\n",
    "            med.append(mediana)\n",
    "            te.append(p(y_test,y_pred_threshold)) \n",
    "            performance_insights.append(performance_names[i]+' '+str(round(p(y_test,y_pred_threshold), 2)) +' CI ['+ str(round(extremes[0], 2))  +'-'+  str(round(extremes[1], 2)) +']')\n",
    "            \n",
    "    \n",
    "    performance_insights =  str(performance_insights)\n",
    "    performance_insights = performance_insights.replace(\"'\", \"\")\n",
    "    print(performance_insights)    "
   ]
  },
  {
   "cell_type": "markdown",
   "metadata": {},
   "source": [
    "Save results"
   ]
  },
  {
   "cell_type": "code",
   "execution_count": 20,
   "metadata": {},
   "outputs": [
    {
     "name": "stdout",
     "output_type": "stream",
     "text": [
      "model saved\n",
      "model saved\n"
     ]
    }
   ],
   "source": [
    "\n",
    "db_name = 'OR'\n",
    "\n",
    "\n",
    "# XGB\n",
    "model_name = 'XGB'\n",
    "\n",
    "features_name = 'full'\n",
    "\n",
    "\n",
    "# Best model\n",
    "filename = '{}_{}_{}_model.sav'.format(model_name,features_name,db_name)\n",
    "\n",
    "with open(filename, 'wb') as pickle_file:\n",
    "    dill.dump(random_search.best_estimator_, pickle_file)\n",
    "    print('model saved')\n",
    "    \n",
    "# CV model\n",
    "filename = '{}_{}_{}model_CV.sav'.format(model_name,features_name,db_name)\n",
    "\n",
    "with open(filename, 'wb') as pickle_file:\n",
    "    dill.dump(random_search, pickle_file)\n",
    "    print('model saved') "
   ]
  },
  {
   "cell_type": "markdown",
   "metadata": {},
   "source": [
    "### Explanability of the model"
   ]
  },
  {
   "cell_type": "code",
   "execution_count": 21,
   "metadata": {},
   "outputs": [
    {
     "name": "stdout",
     "output_type": "stream",
     "text": [
      "[-0.0954921   0.00531933  0.00191876  0.00455529  0.06500593 -0.00952803\n",
      "  0.00745607 -0.00687507  1.70194386]\n"
     ]
    },
    {
     "name": "stderr",
     "output_type": "stream",
     "text": [
      "[Parallel(n_jobs=1)]: Using backend SequentialBackend with 1 concurrent workers.\n",
      "c:\\Python\\lib\\site-packages\\sklearn\\linear_model\\_logistic.py:765: ConvergenceWarning: lbfgs failed to converge (status=1):\n",
      "STOP: TOTAL NO. of ITERATIONS REACHED LIMIT.\n",
      "\n",
      "Increase the number of iterations (max_iter) or scale the data as shown in:\n",
      "    https://scikit-learn.org/stable/modules/preprocessing.html\n",
      "Please also refer to the documentation for alternative solver options:\n",
      "    https://scikit-learn.org/stable/modules/linear_model.html#logistic-regression\n",
      "  extra_warning_msg=_LOGISTIC_SOLVER_CONVERGENCE_MSG)\n",
      "[Parallel(n_jobs=1)]: Done   1 out of   1 | elapsed:    0.1s finished\n"
     ]
    }
   ],
   "source": [
    "model= LogisticRegression(C=0.1, random_state=42, tol=1.0, verbose=1,\n",
    "                                     warm_start=True)\n",
    "model.fit(X_train, y_train)\n",
    "\n",
    "print(model.coef_[0])\n"
   ]
  },
  {
   "cell_type": "code",
   "execution_count": 22,
   "metadata": {},
   "outputs": [
    {
     "name": "stdout",
     "output_type": "stream",
     "text": [
      "[0.00811226]\n"
     ]
    }
   ],
   "source": [
    "print(model.intercept_)"
   ]
  },
  {
   "cell_type": "code",
   "execution_count": 23,
   "metadata": {},
   "outputs": [
    {
     "data": {
      "text/html": [
       "<div>\n",
       "<style scoped>\n",
       "    .dataframe tbody tr th:only-of-type {\n",
       "        vertical-align: middle;\n",
       "    }\n",
       "\n",
       "    .dataframe tbody tr th {\n",
       "        vertical-align: top;\n",
       "    }\n",
       "\n",
       "    .dataframe thead th {\n",
       "        text-align: right;\n",
       "    }\n",
       "</style>\n",
       "<table border=\"1\" class=\"dataframe\">\n",
       "  <thead>\n",
       "    <tr style=\"text-align: right;\">\n",
       "      <th></th>\n",
       "      <th>Coeff</th>\n",
       "    </tr>\n",
       "  </thead>\n",
       "  <tbody>\n",
       "    <tr>\n",
       "      <th>gender</th>\n",
       "      <td>-0.095492</td>\n",
       "    </tr>\n",
       "    <tr>\n",
       "      <th>age</th>\n",
       "      <td>0.005319</td>\n",
       "    </tr>\n",
       "    <tr>\n",
       "      <th>admissionweight</th>\n",
       "      <td>0.001919</td>\n",
       "    </tr>\n",
       "    <tr>\n",
       "      <th>admissionheight</th>\n",
       "      <td>0.004555</td>\n",
       "    </tr>\n",
       "    <tr>\n",
       "      <th>ethnicity</th>\n",
       "      <td>0.065006</td>\n",
       "    </tr>\n",
       "    <tr>\n",
       "      <th>noninvasivesystolic</th>\n",
       "      <td>-0.009528</td>\n",
       "    </tr>\n",
       "    <tr>\n",
       "      <th>noninvasivediastolic</th>\n",
       "      <td>0.007456</td>\n",
       "    </tr>\n",
       "    <tr>\n",
       "      <th>noninvasivemean</th>\n",
       "      <td>-0.006875</td>\n",
       "    </tr>\n",
       "    <tr>\n",
       "      <th>cardioDiagnosis</th>\n",
       "      <td>1.701944</td>\n",
       "    </tr>\n",
       "  </tbody>\n",
       "</table>\n",
       "</div>"
      ],
      "text/plain": [
       "                         Coeff\n",
       "gender               -0.095492\n",
       "age                   0.005319\n",
       "admissionweight       0.001919\n",
       "admissionheight       0.004555\n",
       "ethnicity             0.065006\n",
       "noninvasivesystolic  -0.009528\n",
       "noninvasivediastolic  0.007456\n",
       "noninvasivemean      -0.006875\n",
       "cardioDiagnosis       1.701944"
      ]
     },
     "execution_count": 23,
     "metadata": {},
     "output_type": "execute_result"
    }
   ],
   "source": [
    "pd.DataFrame(model.coef_[0], X_train.columns, columns = ['Coeff'])"
   ]
  }
 ],
 "metadata": {
  "kernelspec": {
   "display_name": "Python 3.7.6 64-bit",
   "language": "python",
   "name": "python3"
  },
  "language_info": {
   "codemirror_mode": {
    "name": "ipython",
    "version": 3
   },
   "file_extension": ".py",
   "mimetype": "text/x-python",
   "name": "python",
   "nbconvert_exporter": "python",
   "pygments_lexer": "ipython3",
   "version": "3.7.6"
  },
  "orig_nbformat": 4,
  "vscode": {
   "interpreter": {
    "hash": "52634da84371cba311ea128a5ea7cdc41ff074b781779e754b270ff9f8153cee"
   }
  }
 },
 "nbformat": 4,
 "nbformat_minor": 2
}
