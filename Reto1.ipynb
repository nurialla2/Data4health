{
 "cells": [
  {
   "cell_type": "code",
   "execution_count": null,
   "id": "60e6e389-de07-44a4-9c51-16b4d49ba6a7",
   "metadata": {},
   "outputs": [],
   "source": [
    "!pip install pandas"
   ]
  },
  {
   "cell_type": "code",
   "execution_count": 1,
   "id": "a4899249-7c53-4377-90b6-2b69485d0d03",
   "metadata": {
    "tags": []
   },
   "outputs": [],
   "source": [
    "import pandas as pd\n",
    "from collections import Counter\n",
    "import re\n",
    "import numpy as np"
   ]
  },
  {
   "cell_type": "code",
   "execution_count": 2,
   "id": "53d74178-ba36-4a15-8be3-982519b11c93",
   "metadata": {},
   "outputs": [],
   "source": [
    "df = pd.read_csv('treatment.csv')"
   ]
  },
  {
   "cell_type": "code",
   "execution_count": 3,
   "id": "66759acc-87a3-421c-a83b-d27b531dcf2e",
   "metadata": {},
   "outputs": [],
   "source": [
    "treatmentList = df['treatmentstring'].tolist()\n",
    "treatmentList2 = []\n",
    "for treatment in treatmentList:\n",
    "    for treat in treatment.split('|'):\n",
    "        treatmentList2.append(treat)"
   ]
  },
  {
   "cell_type": "code",
   "execution_count": 4,
   "id": "65b11209-b173-4471-ab02-07fccb1c3217",
   "metadata": {},
   "outputs": [],
   "source": [
    "dfTreatment = df[df['treatmentstring'].str.contains(\"cardiovascular\")]\n",
    "dfTreatment = dfTreatment[['patientunitstayid','treatmentstring','activeupondischarge']]"
   ]
  },
  {
   "cell_type": "code",
   "execution_count": 5,
   "id": "4c551c40-63df-440a-bf7d-c993ef040c4c",
   "metadata": {
    "tags": []
   },
   "outputs": [],
   "source": [
    "listPatients = dfTreatment['patientunitstayid'].tolist()\n",
    "repetitionsPatient = Counter(listPatients)"
   ]
  },
  {
   "cell_type": "code",
   "execution_count": 6,
   "id": "9ba11516-d856-491f-a18b-720b8c362335",
   "metadata": {},
   "outputs": [],
   "source": [
    "dfDiagnosis = pd.read_csv('diagnosis.csv', na_values=\"nan\")\n",
    "dfDiagnosis = dfDiagnosis.dropna()"
   ]
  },
  {
   "cell_type": "code",
   "execution_count": 7,
   "id": "edc86cb9-3e13-4857-b5e5-f6583109bbff",
   "metadata": {
    "tags": []
   },
   "outputs": [
    {
     "data": {
      "text/plain": [
       "False"
      ]
     },
     "execution_count": 7,
     "metadata": {},
     "output_type": "execute_result"
    }
   ],
   "source": [
    "listICDcodes = dfDiagnosis['icd9code'].tolist()\n",
    "validIndices = []\n",
    "i=0\n",
    "for icd in listICDcodes:\n",
    "    icdCode1 = icd.split(',')[0]\n",
    "    if re.match(r'^-?\\d+(?:\\.\\d+)$', icdCode1) is not None and float(icdCode1) >= 390 and float(icdCode1) <= 459:\n",
    "        validIndices.append(i)\n",
    "    i+=1\n",
    "\n",
    "dfDiagnosisFiltered = dfDiagnosis.iloc[validIndices]\n",
    "filteredPatientIds = set(dfDiagnosisFiltered['patientunitstayid'].tolist())"
   ]
  },
  {
   "cell_type": "code",
   "execution_count": 8,
   "id": "8d1a1bd7-2e30-4a37-b923-18ed85fcd6a5",
   "metadata": {},
   "outputs": [],
   "source": [
    "dfDiagnosis = pd.read_csv('diagnosis.csv', na_values=\"nan\")\n",
    "dfDiagnosis = dfDiagnosis.dropna()"
   ]
  },
  {
   "cell_type": "code",
   "execution_count": 9,
   "id": "9b59ed13-8188-46e1-810f-3bfe7c75181c",
   "metadata": {},
   "outputs": [
    {
     "data": {
      "text/html": [
       "<div>\n",
       "<style scoped>\n",
       "    .dataframe tbody tr th:only-of-type {\n",
       "        vertical-align: middle;\n",
       "    }\n",
       "\n",
       "    .dataframe tbody tr th {\n",
       "        vertical-align: top;\n",
       "    }\n",
       "\n",
       "    .dataframe thead th {\n",
       "        text-align: right;\n",
       "    }\n",
       "</style>\n",
       "<table border=\"1\" class=\"dataframe\">\n",
       "  <thead>\n",
       "    <tr style=\"text-align: right;\">\n",
       "      <th></th>\n",
       "      <th>patientunitstayid</th>\n",
       "      <th>vitalaperiodicid</th>\n",
       "      <th>observationoffset</th>\n",
       "      <th>noninvasivesystolic</th>\n",
       "      <th>noninvasivediastolic</th>\n",
       "      <th>noninvasivemean</th>\n",
       "    </tr>\n",
       "  </thead>\n",
       "  <tbody>\n",
       "    <tr>\n",
       "      <th>0</th>\n",
       "      <td>141764</td>\n",
       "      <td>3661420.5</td>\n",
       "      <td>204.125000</td>\n",
       "      <td>172.750000</td>\n",
       "      <td>93.375000</td>\n",
       "      <td>125.625000</td>\n",
       "    </tr>\n",
       "    <tr>\n",
       "      <th>1</th>\n",
       "      <td>141765</td>\n",
       "      <td>5600897.5</td>\n",
       "      <td>961.900000</td>\n",
       "      <td>146.033333</td>\n",
       "      <td>72.800000</td>\n",
       "      <td>98.400000</td>\n",
       "    </tr>\n",
       "    <tr>\n",
       "      <th>2</th>\n",
       "      <td>143870</td>\n",
       "      <td>5022024.5</td>\n",
       "      <td>296.500000</td>\n",
       "      <td>102.500000</td>\n",
       "      <td>53.166667</td>\n",
       "      <td>74.500000</td>\n",
       "    </tr>\n",
       "    <tr>\n",
       "      <th>3</th>\n",
       "      <td>144815</td>\n",
       "      <td>1196461.5</td>\n",
       "      <td>480.333333</td>\n",
       "      <td>114.388889</td>\n",
       "      <td>72.777778</td>\n",
       "      <td>88.777778</td>\n",
       "    </tr>\n",
       "    <tr>\n",
       "      <th>4</th>\n",
       "      <td>145427</td>\n",
       "      <td>2150246.5</td>\n",
       "      <td>358.250000</td>\n",
       "      <td>116.666667</td>\n",
       "      <td>62.833333</td>\n",
       "      <td>83.208333</td>\n",
       "    </tr>\n",
       "    <tr>\n",
       "      <th>...</th>\n",
       "      <td>...</td>\n",
       "      <td>...</td>\n",
       "      <td>...</td>\n",
       "      <td>...</td>\n",
       "      <td>...</td>\n",
       "      <td>...</td>\n",
       "    </tr>\n",
       "    <tr>\n",
       "      <th>2326</th>\n",
       "      <td>3351763</td>\n",
       "      <td>443446038.5</td>\n",
       "      <td>2876.161765</td>\n",
       "      <td>135.985294</td>\n",
       "      <td>63.323529</td>\n",
       "      <td>89.279412</td>\n",
       "    </tr>\n",
       "    <tr>\n",
       "      <th>2327</th>\n",
       "      <td>3352230</td>\n",
       "      <td>443136851.0</td>\n",
       "      <td>2360.507246</td>\n",
       "      <td>117.101449</td>\n",
       "      <td>65.260870</td>\n",
       "      <td>84.304348</td>\n",
       "    </tr>\n",
       "    <tr>\n",
       "      <th>2328</th>\n",
       "      <td>3352231</td>\n",
       "      <td>445040552.0</td>\n",
       "      <td>655.600000</td>\n",
       "      <td>128.000000</td>\n",
       "      <td>71.800000</td>\n",
       "      <td>91.800000</td>\n",
       "    </tr>\n",
       "    <tr>\n",
       "      <th>2329</th>\n",
       "      <td>3352333</td>\n",
       "      <td>442861118.5</td>\n",
       "      <td>1505.014286</td>\n",
       "      <td>146.600000</td>\n",
       "      <td>81.628571</td>\n",
       "      <td>106.228571</td>\n",
       "    </tr>\n",
       "    <tr>\n",
       "      <th>2330</th>\n",
       "      <td>3353113</td>\n",
       "      <td>445476265.0</td>\n",
       "      <td>1392.111111</td>\n",
       "      <td>136.022222</td>\n",
       "      <td>88.733333</td>\n",
       "      <td>107.511111</td>\n",
       "    </tr>\n",
       "  </tbody>\n",
       "</table>\n",
       "<p>2331 rows × 6 columns</p>\n",
       "</div>"
      ],
      "text/plain": [
       "      patientunitstayid  vitalaperiodicid  observationoffset  \\\n",
       "0                141764         3661420.5         204.125000   \n",
       "1                141765         5600897.5         961.900000   \n",
       "2                143870         5022024.5         296.500000   \n",
       "3                144815         1196461.5         480.333333   \n",
       "4                145427         2150246.5         358.250000   \n",
       "...                 ...               ...                ...   \n",
       "2326            3351763       443446038.5        2876.161765   \n",
       "2327            3352230       443136851.0        2360.507246   \n",
       "2328            3352231       445040552.0         655.600000   \n",
       "2329            3352333       442861118.5        1505.014286   \n",
       "2330            3353113       445476265.0        1392.111111   \n",
       "\n",
       "      noninvasivesystolic  noninvasivediastolic  noninvasivemean  \n",
       "0              172.750000             93.375000       125.625000  \n",
       "1              146.033333             72.800000        98.400000  \n",
       "2              102.500000             53.166667        74.500000  \n",
       "3              114.388889             72.777778        88.777778  \n",
       "4              116.666667             62.833333        83.208333  \n",
       "...                   ...                   ...              ...  \n",
       "2326           135.985294             63.323529        89.279412  \n",
       "2327           117.101449             65.260870        84.304348  \n",
       "2328           128.000000             71.800000        91.800000  \n",
       "2329           146.600000             81.628571       106.228571  \n",
       "2330           136.022222             88.733333       107.511111  \n",
       "\n",
       "[2331 rows x 6 columns]"
      ]
     },
     "execution_count": 9,
     "metadata": {},
     "output_type": "execute_result"
    }
   ],
   "source": [
    "dfVitalAperiodic = pd.read_csv('vitalAperiodic.csv')\n",
    "dfVitalAperiodic = dfVitalAperiodic.groupby(['patientunitstayid'], as_index=False).mean()[['patientunitstayid','vitalaperiodicid', 'observationoffset','noninvasivesystolic',\n",
    "                                                                                           'noninvasivediastolic','noninvasivemean']]"
   ]
  },
  {
   "cell_type": "code",
   "execution_count": 10,
   "id": "72f013c4-ebf9-425e-9ab2-e1c629e72742",
   "metadata": {},
   "outputs": [],
   "source": [
    "dfPatient = pd.read_csv('patient.csv')\n",
    "dfPatientNew = dfPatient[['patientunitstayid', 'gender', 'age', 'admissionweight', 'admissionheight', 'ethnicity']]"
   ]
  },
  {
   "cell_type": "code",
   "execution_count": 11,
   "id": "c9de3ab8-bf55-4e0d-9afa-8d4eb5c2d7cb",
   "metadata": {},
   "outputs": [],
   "source": [
    "dfPatientNew = dfPatientNew.merge(dfVitalAperiodic, how='left', left_on='patientunitstayid', right_on='patientunitstayid')"
   ]
  },
  {
   "cell_type": "code",
   "execution_count": 12,
   "id": "d5bf1086-ea7f-4823-89c4-3ebb0e85fdde",
   "metadata": {},
   "outputs": [],
   "source": [
    "dfPatientNew['cardioDiagnosis'] = dfPatientNew['patientunitstayid'].apply(lambda x : x in filteredPatientIds)"
   ]
  },
  {
   "cell_type": "code",
   "execution_count": 13,
   "id": "834a271f-86a0-4d83-9db8-4476b77e0b58",
   "metadata": {},
   "outputs": [],
   "source": [
    "dfTreatment = pd.read_csv('treatment.csv')[['patientunitstayid','treatmentstring']] "
   ]
  },
  {
   "cell_type": "code",
   "execution_count": 14,
   "id": "cb4157f1-9dff-4f13-b653-a059719994b1",
   "metadata": {},
   "outputs": [],
   "source": [
    "dfTreatment = dfTreatment.groupby(['patientunitstayid'], as_index=False).agg({'treatmentstring': ' '.join})\n",
    "dfTreatment['treated'] = np.where(dfTreatment['treatmentstring'].str.contains(\"cardiovascular\"), 'True', 'False')\n",
    "dfTreatment = dfTreatment[['patientunitstayid', 'treated']]"
   ]
  },
  {
   "cell_type": "code",
   "execution_count": 15,
   "id": "6b82ee53-41b5-43cd-910a-aee98673bbc1",
   "metadata": {},
   "outputs": [],
   "source": [
    "dfPatientNew = dfPatientNew.merge(dfTreatment, how='left', left_on='patientunitstayid', right_on='patientunitstayid')\n",
    "dfPatientNew = dfPatientNew.dropna()\n",
    "dfPatientNew"
   ]
  },
  {
   "cell_type": "code",
   "execution_count": 16,
   "id": "66a4401e-5fba-4257-a4bf-713bf71b72e7",
   "metadata": {},
   "outputs": [],
   "source": [
    "dfPatientNew.to_csv('patientData.csv', index=False)"
   ]
  },
  {
   "cell_type": "code",
   "execution_count": null,
   "id": "4d273e10-da27-4e96-b7a6-6348f721312a",
   "metadata": {},
   "outputs": [],
   "source": []
  }
 ],
 "metadata": {
  "kernelspec": {
   "display_name": "default:Python",
   "language": "python",
   "name": "conda-env-default-py"
  },
  "language_info": {
   "codemirror_mode": {
    "name": "ipython",
    "version": 3
   },
   "file_extension": ".py",
   "mimetype": "text/x-python",
   "name": "python",
   "nbconvert_exporter": "python",
   "pygments_lexer": "ipython3",
   "version": "3.9.13"
  }
 },
 "nbformat": 4,
 "nbformat_minor": 5
}
